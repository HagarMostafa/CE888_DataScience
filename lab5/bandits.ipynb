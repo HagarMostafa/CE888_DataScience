{
  "nbformat": 4,
  "nbformat_minor": 0,
  "metadata": {
    "kernelspec": {
      "display_name": "Python 3",
      "language": "python",
      "name": "python3"
    },
    "language_info": {
      "codemirror_mode": {
        "name": "ipython",
        "version": 3
      },
      "file_extension": ".py",
      "mimetype": "text/x-python",
      "name": "python",
      "nbconvert_exporter": "python",
      "pygments_lexer": "ipython3",
      "version": "3.7.6"
    },
    "colab": {
      "name": "bandits.ipynb",
      "provenance": [],
      "include_colab_link": true
    }
  },
  "cells": [
    {
      "cell_type": "markdown",
      "metadata": {
        "id": "view-in-github",
        "colab_type": "text"
      },
      "source": [
        "<a href=\"https://colab.research.google.com/github/albanda/CE888/blob/master/lab5/bandits.ipynb\" target=\"_parent\"><img src=\"https://colab.research.google.com/assets/colab-badge.svg\" alt=\"Open In Colab\"/></a>"
      ]
    },
    {
      "cell_type": "code",
      "metadata": {
        "id": "G_ohAqyeAWh5"
      },
      "source": [
        "import numpy as np\n",
        "import matplotlib.pyplot as plt"
      ],
      "execution_count": 1,
      "outputs": []
    },
    {
      "cell_type": "code",
      "metadata": {
        "id": "NyfMa-ZzAWia"
      },
      "source": [
        "# Define our actions\n",
        "\n",
        "def action_0():\n",
        "    return np.random.choice([1, 0], p=[0.5, 0.5])\n",
        "\n",
        "def action_1():\n",
        "    return np.random.choice([1, 0], p=[0.6, 0.4])\n",
        "\n",
        "def action_2():\n",
        "    return np.random.choice([1, 0], p=[0.2, 0.8])\n",
        "\n",
        "rewards = [action_0, action_1, action_2]"
      ],
      "execution_count": 2,
      "outputs": []
    },
    {
      "cell_type": "code",
      "metadata": {
        "colab": {
          "base_uri": "https://localhost:8080/"
        },
        "id": "8OMYEfKiAWig",
        "outputId": "ad9c214b-9280-4dfc-8438-43a5cd1e873c"
      },
      "source": [
        "for i in range(10):\n",
        "    print('Pull %d (action_0): reward=%d' % (i, rewards[0]()))"
      ],
      "execution_count": 5,
      "outputs": [
        {
          "output_type": "stream",
          "text": [
            "Pull 0 (action_0): reward=0\n",
            "Pull 1 (action_0): reward=1\n",
            "Pull 2 (action_0): reward=0\n",
            "Pull 3 (action_0): reward=0\n",
            "Pull 4 (action_0): reward=1\n",
            "Pull 5 (action_0): reward=1\n",
            "Pull 6 (action_0): reward=0\n",
            "Pull 7 (action_0): reward=0\n",
            "Pull 8 (action_0): reward=1\n",
            "Pull 9 (action_0): reward=1\n"
          ],
          "name": "stdout"
        }
      ]
    },
    {
      "cell_type": "code",
      "metadata": {
        "colab": {
          "base_uri": "https://localhost:8080/"
        },
        "id": "VVjefuf9AWip",
        "outputId": "019cdf1a-5f03-42a9-ea28-24309642c467"
      },
      "source": [
        "# Simulate action values (Q): expected reward for each action\n",
        "pulls = 100000\n",
        "\n",
        "action_values = []\n",
        "for reward in rewards:\n",
        "    value = [reward() for _ in range(pulls)]  # execute each of the actions 'pulls' times\n",
        "    action_values.append(value)\n",
        "\n",
        "for action, value in enumerate(action_values):\n",
        "    print(\"Action %d: Q(a_%d)=%.2f\" % (action, action, np.mean(value)))"
      ],
      "execution_count": 6,
      "outputs": [
        {
          "output_type": "stream",
          "text": [
            "Action 0: Q(a_0)=0.50\n",
            "Action 1: Q(a_1)=0.60\n",
            "Action 2: Q(a_2)=0.20\n"
          ],
          "name": "stdout"
        }
      ]
    },
    {
      "cell_type": "code",
      "metadata": {
        "id": "6wY2EchRAWiu"
      },
      "source": [
        "# To simulate the values (V), we need to define a policy\n",
        "# (Value is the expected reward given the policy I'm following)\n",
        "\n",
        "# Define a policy:\n",
        "def policy_random():\n",
        "    '''Returns which action to perform using equal probabilities for each action'''\n",
        "    return np.random.choice([0, 1, 2], p=[1/3, 1/3, 1/3])\n",
        "\n",
        "\n",
        "def policy_better():\n",
        "    ''' A better policy than random: we choose actions 0 and 1 more often than action 2'''\n",
        "    return np.random.choice([0, 1, 2], p=[0.4, 0.5, 0.1])\n"
      ],
      "execution_count": 7,
      "outputs": []
    },
    {
      "cell_type": "code",
      "metadata": {
        "colab": {
          "base_uri": "https://localhost:8080/"
        },
        "id": "Qn70-2BnAWiy",
        "outputId": "bc241f46-3ead-4ebb-b05f-baacc3bbd935"
      },
      "source": [
        "# Simulate Values using the random policy\n",
        "total_reward = 0\n",
        "for pull in range(pulls):\n",
        "    action = policy_random()\n",
        "    total_reward += rewards[action]()\n",
        "print(\"Total reward =\", total_reward)\n",
        "print(\"Average reward: V =\", total_reward/pulls)"
      ],
      "execution_count": 8,
      "outputs": [
        {
          "output_type": "stream",
          "text": [
            "Total reward = 43239\n",
            "Average reward: V = 0.43239\n"
          ],
          "name": "stdout"
        }
      ]
    },
    {
      "cell_type": "code",
      "metadata": {
        "colab": {
          "base_uri": "https://localhost:8080/"
        },
        "id": "_-6gLUeWAWi3",
        "outputId": "63bd85df-d7d6-4862-db62-6c8a83264039"
      },
      "source": [
        "# Simulate Values using the better policy\n",
        "total_reward = 0\n",
        "for pull in range(pulls):\n",
        "    action = policy_better()\n",
        "    total_reward += rewards[action]()\n",
        "print(\"Total reward =\", total_reward)\n",
        "print(\"Average reward: V =\", total_reward/pulls)"
      ],
      "execution_count": 9,
      "outputs": [
        {
          "output_type": "stream",
          "text": [
            "Total reward = 51975\n",
            "Average reward: V = 0.51975\n"
          ],
          "name": "stdout"
        }
      ]
    },
    {
      "cell_type": "code",
      "metadata": {
        "colab": {
          "base_uri": "https://localhost:8080/"
        },
        "id": "vML7aYcDAWi6",
        "outputId": "b58e55a3-ae19-4352-dfc2-41533d514317"
      },
      "source": [
        "# Regret of the better policy\n",
        "V_star = max([np.mean(value) for value in action_values])\n",
        "print(\"V* =\", V_star)\n",
        "\n",
        "total_regret = 0\n",
        "for pull in range(pulls):\n",
        "    total_regret += (V_star - rewards[policy_better()]())\n",
        "print('Regret: I_t = %.2f' % (total_regret/pulls))"
      ],
      "execution_count": 10,
      "outputs": [
        {
          "output_type": "stream",
          "text": [
            "V* = 0.60164\n",
            "Regret: I_t = 0.08\n"
          ],
          "name": "stdout"
        }
      ]
    },
    {
      "cell_type": "code",
      "metadata": {
        "id": "pkhEOOz8AWi_"
      },
      "source": [
        "# Some bandit policies to explore:\n",
        "\n",
        "def policy_greedy(action_values):\n",
        "    '''Always returns the action for which the payoff is highest'''\n",
        "    best_action = np.argmax([np.mean(value) for value in action_values])\n",
        "    return best_action\n",
        "\n",
        "\n",
        "def policy_e_greedy(action_values, epsilon=0.05):\n",
        "    '''We explore with epsilon probability, and choose the best action the rest of the time'''\n",
        "    explore = np.random.choice([1, 0], p=[epsilon, 1-epsilon])\n",
        "    if explore:\n",
        "        # Random action\n",
        "        return policy_random()\n",
        "    else:\n",
        "        # Choose best action\n",
        "        return policy_greedy(action_values)\n",
        "\n"
      ],
      "execution_count": 11,
      "outputs": []
    },
    {
      "cell_type": "code",
      "metadata": {
        "id": "wyGqo1sTAWjC"
      },
      "source": [
        "# Implementing the decaying epsilon-greedy properly requires a class definition so we can store the epsilon values\n",
        "class DecayingEGreedy:\n",
        "    \n",
        "    def __init__(self, epsilon, decay=0.99, lower_bound=0):\n",
        "        self.epsilon = epsilon\n",
        "        self.decay = decay\n",
        "        self.lower_bound = lower_bound\n",
        "        \n",
        "    def policy(self, action_values):\n",
        "        if self.lower_bound > 0 and self.epsilon > self.lower_bound:\n",
        "            self.epsilon *= self.decay  # update epsilon\n",
        "        explore = np.random.choice([1, 0], p=[self.epsilon, 1-self.epsilon])  # explore vs exploit decision\n",
        "        if explore:\n",
        "            # Random action\n",
        "            return policy_random()\n",
        "        else:\n",
        "            # Choose best action\n",
        "            return policy_greedy(action_values)\n"
      ],
      "execution_count": 12,
      "outputs": []
    },
    {
      "cell_type": "code",
      "metadata": {
        "scrolled": true,
        "id": "fT5ZzbfZAWjE",
        "outputId": "1178bb3e-70e0-4126-dfc1-f9f24c6f3568"
      },
      "source": [
        "# Let's test the decaying epsilon-greedy approach\n",
        "agent = DecayingEGreedy(epsilon=0.1, decay=0.99, lower_bound=0.03)\n",
        "\n",
        "# Full problem:\n",
        "action_values = [[], [], []] # initialise values\n",
        "rewards_decaying_e_greedy = []\n",
        "total_reward = 0\n",
        "print('Number of pulls\\t\\tTotal reward\\t\\tV')\n",
        "for pull in range(pulls):\n",
        "    action = agent.policy(action_values)  # choose action according to policy\n",
        "    reward = rewards[action]()  # get reward\n",
        "    action_values[action].append(reward)  # update action_values so we make better decisions down the line\n",
        "    total_reward += reward\n",
        "    if (pull+1) % 1000 == 0:\n",
        "        print('%d\\t\\t\\t%d\\t\\t\\t%.3f' % (pull+1, total_reward, total_reward/pull))\n",
        "        rewards_decaying_e_greedy.append(total_reward/pull)\n",
        "\n"
      ],
      "execution_count": null,
      "outputs": [
        {
          "output_type": "stream",
          "text": [
            "Number of pulls\t\tTotal reward\t\tV\n",
            "1000\t\t\t453\t\t\t0.453\n",
            "2000\t\t\t965\t\t\t0.483\n",
            "3000\t\t\t1580\t\t\t0.527\n",
            "4000\t\t\t2179\t\t\t0.545\n",
            "5000\t\t\t2781\t\t\t0.556\n",
            "6000\t\t\t3382\t\t\t0.564\n",
            "7000\t\t\t3939\t\t\t0.563\n",
            "8000\t\t\t4542\t\t\t0.568\n",
            "9000\t\t\t5161\t\t\t0.574\n",
            "10000\t\t\t5763\t\t\t0.576\n",
            "11000\t\t\t6384\t\t\t0.580\n",
            "12000\t\t\t6980\t\t\t0.582\n",
            "13000\t\t\t7567\t\t\t0.582\n",
            "14000\t\t\t8162\t\t\t0.583\n",
            "15000\t\t\t8734\t\t\t0.582\n",
            "16000\t\t\t9349\t\t\t0.584\n",
            "17000\t\t\t9923\t\t\t0.584\n",
            "18000\t\t\t10497\t\t\t0.583\n",
            "19000\t\t\t11105\t\t\t0.585\n",
            "20000\t\t\t11704\t\t\t0.585\n",
            "21000\t\t\t12274\t\t\t0.585\n",
            "22000\t\t\t12888\t\t\t0.586\n",
            "23000\t\t\t13471\t\t\t0.586\n",
            "24000\t\t\t14080\t\t\t0.587\n",
            "25000\t\t\t14665\t\t\t0.587\n",
            "26000\t\t\t15245\t\t\t0.586\n",
            "27000\t\t\t15855\t\t\t0.587\n",
            "28000\t\t\t16483\t\t\t0.589\n",
            "29000\t\t\t17076\t\t\t0.589\n",
            "30000\t\t\t17679\t\t\t0.589\n",
            "31000\t\t\t18274\t\t\t0.590\n",
            "32000\t\t\t18900\t\t\t0.591\n",
            "33000\t\t\t19503\t\t\t0.591\n",
            "34000\t\t\t20099\t\t\t0.591\n",
            "35000\t\t\t20676\t\t\t0.591\n",
            "36000\t\t\t21273\t\t\t0.591\n",
            "37000\t\t\t21870\t\t\t0.591\n",
            "38000\t\t\t22468\t\t\t0.591\n",
            "39000\t\t\t23056\t\t\t0.591\n",
            "40000\t\t\t23658\t\t\t0.591\n",
            "41000\t\t\t24272\t\t\t0.592\n",
            "42000\t\t\t24883\t\t\t0.592\n",
            "43000\t\t\t25493\t\t\t0.593\n",
            "44000\t\t\t26092\t\t\t0.593\n",
            "45000\t\t\t26726\t\t\t0.594\n",
            "46000\t\t\t27331\t\t\t0.594\n",
            "47000\t\t\t27922\t\t\t0.594\n",
            "48000\t\t\t28532\t\t\t0.594\n",
            "49000\t\t\t29139\t\t\t0.595\n",
            "50000\t\t\t29725\t\t\t0.595\n",
            "51000\t\t\t30348\t\t\t0.595\n",
            "52000\t\t\t30954\t\t\t0.595\n",
            "53000\t\t\t31546\t\t\t0.595\n",
            "54000\t\t\t32119\t\t\t0.595\n",
            "55000\t\t\t32708\t\t\t0.595\n",
            "56000\t\t\t33313\t\t\t0.595\n",
            "57000\t\t\t33894\t\t\t0.595\n",
            "58000\t\t\t34479\t\t\t0.594\n",
            "59000\t\t\t35078\t\t\t0.595\n",
            "60000\t\t\t35657\t\t\t0.594\n",
            "61000\t\t\t36260\t\t\t0.594\n",
            "62000\t\t\t36843\t\t\t0.594\n",
            "63000\t\t\t37435\t\t\t0.594\n",
            "64000\t\t\t38046\t\t\t0.594\n",
            "65000\t\t\t38649\t\t\t0.595\n",
            "66000\t\t\t39250\t\t\t0.595\n",
            "67000\t\t\t39842\t\t\t0.595\n",
            "68000\t\t\t40437\t\t\t0.595\n",
            "69000\t\t\t41043\t\t\t0.595\n",
            "70000\t\t\t41624\t\t\t0.595\n",
            "71000\t\t\t42229\t\t\t0.595\n",
            "72000\t\t\t42808\t\t\t0.595\n",
            "73000\t\t\t43391\t\t\t0.594\n",
            "74000\t\t\t43977\t\t\t0.594\n",
            "75000\t\t\t44564\t\t\t0.594\n",
            "76000\t\t\t45170\t\t\t0.594\n",
            "77000\t\t\t45767\t\t\t0.594\n",
            "78000\t\t\t46355\t\t\t0.594\n",
            "79000\t\t\t46936\t\t\t0.594\n",
            "80000\t\t\t47547\t\t\t0.594\n",
            "81000\t\t\t48145\t\t\t0.594\n",
            "82000\t\t\t48712\t\t\t0.594\n",
            "83000\t\t\t49318\t\t\t0.594\n",
            "84000\t\t\t49912\t\t\t0.594\n",
            "85000\t\t\t50507\t\t\t0.594\n",
            "86000\t\t\t51093\t\t\t0.594\n",
            "87000\t\t\t51712\t\t\t0.594\n",
            "88000\t\t\t52293\t\t\t0.594\n",
            "89000\t\t\t52877\t\t\t0.594\n",
            "90000\t\t\t53457\t\t\t0.594\n",
            "91000\t\t\t54083\t\t\t0.594\n",
            "92000\t\t\t54651\t\t\t0.594\n",
            "93000\t\t\t55242\t\t\t0.594\n",
            "94000\t\t\t55830\t\t\t0.594\n",
            "95000\t\t\t56412\t\t\t0.594\n",
            "96000\t\t\t57000\t\t\t0.594\n",
            "97000\t\t\t57598\t\t\t0.594\n",
            "98000\t\t\t58205\t\t\t0.594\n",
            "99000\t\t\t58792\t\t\t0.594\n",
            "100000\t\t\t59402\t\t\t0.594\n"
          ],
          "name": "stdout"
        }
      ]
    },
    {
      "cell_type": "code",
      "metadata": {
        "id": "uLHnVY5AAWjL",
        "outputId": "f2413923-45c5-4d38-f3a1-917922223850"
      },
      "source": [
        "plt.plot(np.arange(1000, pulls+1, step=1000), rewards_decaying_e_greedy)\n",
        "plt.xlabel(\"Iterations\")\n",
        "plt.ylabel(\"Average reward (V)\")\n",
        "# The average reward is 0.594, which is very close to V* (0.6)!"
      ],
      "execution_count": null,
      "outputs": [
        {
          "output_type": "execute_result",
          "data": {
            "text/plain": [
              "Text(0, 0.5, 'Average reward (V)')"
            ]
          },
          "metadata": {
            "tags": []
          },
          "execution_count": 66
        },
        {
          "output_type": "display_data",
          "data": {
            "image/png": "[encoded data removed]",
            "text/plain": [
              "<Figure size 432x288 with 1 Axes>"
            ]
          },
          "metadata": {
            "tags": [],
            "needs_background": "light"
          }
        }
      ]
    },
    {
      "cell_type": "code",
      "metadata": {
        "id": "KeR_XuqUAWjO"
      },
      "source": [
        "# Implementing the decaying epsilon-greedy properly requires a class definition so we can store the epsilon values\n",
        "class UCB:\n",
        "    \n",
        "    def __init__(self, C=0.5, n_arms=3):\n",
        "        self.C = C\n",
        "        self.pulls = 0\n",
        "        self.counts = np.asarray([0] * n_arms)\n",
        "        \n",
        "    def update_counts(self, arm):\n",
        "        self.pulls += 1\n",
        "        self.counts[arm] += 1\n",
        "        \n",
        "    def policy(self, action_values):\n",
        "        action_values = np.asarray([np.mean(value) for value in action_values])\n",
        "        uncertainty = np.sqrt(np.log(self.pulls) / self.counts)\n",
        "        ucb = action_values + self.C * uncertainty\n",
        "        action = np.argmax(ucb)\n",
        "        self.update_counts(action)\n",
        "        return action\n"
      ],
      "execution_count": null,
      "outputs": []
    },
    {
      "cell_type": "code",
      "metadata": {
        "scrolled": true,
        "id": "eRI6_3tCAWjP",
        "outputId": "319db213-4351-4641-c6e3-d0fcb47d6e5f"
      },
      "source": [
        "# Let's test the decaying epsilon-greedy approach\n",
        "agent = UCB(C=0.5)\n",
        "\n",
        "# Full problem:\n",
        "action_values = [[], [], []] # initialise values\n",
        "total_reward = 0 # reset reward\n",
        "rewards_ucb = []\n",
        "print('Number of pulls\\t\\tTotal reward\\t\\tV')\n",
        "for pull in range(pulls):\n",
        "    action = agent.policy(action_values)  # choose action according to policy\n",
        "    reward = rewards[action]()  # get reward\n",
        "    action_values[action].append(reward)  # update action_values so we make better decisions down the line\n",
        "    total_reward += reward\n",
        "    if (pull+1) % 1000 == 0:\n",
        "        print('%d\\t\\t\\t%d\\t\\t\\t%.3f' % (pull+1, total_reward, total_reward/pull))\n",
        "        rewards_ucb.append(total_reward/pull)\n"
      ],
      "execution_count": null,
      "outputs": [
        {
          "output_type": "stream",
          "text": [
            "Number of pulls\t\tTotal reward\t\tV\n",
            "1000\t\t\t600\t\t\t0.601\n"
          ],
          "name": "stdout"
        },
        {
          "output_type": "stream",
          "text": [
            "D:\\ProgramData\\Anaconda3\\lib\\site-packages\\numpy\\core\\fromnumeric.py:3335: RuntimeWarning: Mean of empty slice.\n",
            "  out=out, **kwargs)\n",
            "D:\\ProgramData\\Anaconda3\\lib\\site-packages\\numpy\\core\\_methods.py:161: RuntimeWarning: invalid value encountered in double_scalars\n",
            "  ret = ret.dtype.type(ret / rcount)\n",
            "D:\\ProgramData\\Anaconda3\\lib\\site-packages\\ipykernel_launcher.py:15: RuntimeWarning: divide by zero encountered in log\n",
            "  from ipykernel import kernelapp as app\n",
            "D:\\ProgramData\\Anaconda3\\lib\\site-packages\\ipykernel_launcher.py:15: RuntimeWarning: invalid value encountered in sqrt\n",
            "  from ipykernel import kernelapp as app\n",
            "D:\\ProgramData\\Anaconda3\\lib\\site-packages\\ipykernel_launcher.py:15: RuntimeWarning: invalid value encountered in true_divide\n",
            "  from ipykernel import kernelapp as app\n",
            "D:\\ProgramData\\Anaconda3\\lib\\site-packages\\ipykernel_launcher.py:15: RuntimeWarning: divide by zero encountered in true_divide\n",
            "  from ipykernel import kernelapp as app\n"
          ],
          "name": "stderr"
        },
        {
          "output_type": "stream",
          "text": [
            "2000\t\t\t1230\t\t\t0.615\n",
            "3000\t\t\t1819\t\t\t0.607\n",
            "4000\t\t\t2412\t\t\t0.603\n",
            "5000\t\t\t2978\t\t\t0.596\n",
            "6000\t\t\t3562\t\t\t0.594\n",
            "7000\t\t\t4140\t\t\t0.592\n",
            "8000\t\t\t4732\t\t\t0.592\n",
            "9000\t\t\t5372\t\t\t0.597\n",
            "10000\t\t\t5976\t\t\t0.598\n",
            "11000\t\t\t6574\t\t\t0.598\n",
            "12000\t\t\t7178\t\t\t0.598\n",
            "13000\t\t\t7787\t\t\t0.599\n",
            "14000\t\t\t8391\t\t\t0.599\n",
            "15000\t\t\t9002\t\t\t0.600\n",
            "16000\t\t\t9587\t\t\t0.599\n",
            "17000\t\t\t10199\t\t\t0.600\n",
            "18000\t\t\t10787\t\t\t0.599\n",
            "19000\t\t\t11391\t\t\t0.600\n",
            "20000\t\t\t11982\t\t\t0.599\n",
            "21000\t\t\t12585\t\t\t0.599\n",
            "22000\t\t\t13195\t\t\t0.600\n",
            "23000\t\t\t13819\t\t\t0.601\n",
            "24000\t\t\t14410\t\t\t0.600\n",
            "25000\t\t\t14993\t\t\t0.600\n",
            "26000\t\t\t15604\t\t\t0.600\n",
            "27000\t\t\t16198\t\t\t0.600\n",
            "28000\t\t\t16826\t\t\t0.601\n",
            "29000\t\t\t17435\t\t\t0.601\n",
            "30000\t\t\t18046\t\t\t0.602\n",
            "31000\t\t\t18623\t\t\t0.601\n",
            "32000\t\t\t19224\t\t\t0.601\n",
            "33000\t\t\t19816\t\t\t0.601\n",
            "34000\t\t\t20410\t\t\t0.600\n",
            "35000\t\t\t21024\t\t\t0.601\n",
            "36000\t\t\t21612\t\t\t0.600\n",
            "37000\t\t\t22199\t\t\t0.600\n",
            "38000\t\t\t22809\t\t\t0.600\n",
            "39000\t\t\t23429\t\t\t0.601\n",
            "40000\t\t\t24032\t\t\t0.601\n",
            "41000\t\t\t24639\t\t\t0.601\n",
            "42000\t\t\t25224\t\t\t0.601\n",
            "43000\t\t\t25809\t\t\t0.600\n",
            "44000\t\t\t26403\t\t\t0.600\n",
            "45000\t\t\t26993\t\t\t0.600\n",
            "46000\t\t\t27577\t\t\t0.600\n",
            "47000\t\t\t28153\t\t\t0.599\n",
            "48000\t\t\t28741\t\t\t0.599\n",
            "49000\t\t\t29344\t\t\t0.599\n",
            "50000\t\t\t29921\t\t\t0.598\n",
            "51000\t\t\t30520\t\t\t0.598\n",
            "52000\t\t\t31121\t\t\t0.598\n",
            "53000\t\t\t31741\t\t\t0.599\n",
            "54000\t\t\t32312\t\t\t0.598\n",
            "55000\t\t\t32936\t\t\t0.599\n",
            "56000\t\t\t33560\t\t\t0.599\n",
            "57000\t\t\t34164\t\t\t0.599\n",
            "58000\t\t\t34776\t\t\t0.600\n",
            "59000\t\t\t35399\t\t\t0.600\n",
            "60000\t\t\t35987\t\t\t0.600\n",
            "61000\t\t\t36610\t\t\t0.600\n",
            "62000\t\t\t37220\t\t\t0.600\n",
            "63000\t\t\t37802\t\t\t0.600\n",
            "64000\t\t\t38390\t\t\t0.600\n",
            "65000\t\t\t39001\t\t\t0.600\n",
            "66000\t\t\t39610\t\t\t0.600\n",
            "67000\t\t\t40231\t\t\t0.600\n",
            "68000\t\t\t40818\t\t\t0.600\n",
            "69000\t\t\t41402\t\t\t0.600\n",
            "70000\t\t\t41987\t\t\t0.600\n",
            "71000\t\t\t42591\t\t\t0.600\n",
            "72000\t\t\t43174\t\t\t0.600\n",
            "73000\t\t\t43759\t\t\t0.599\n",
            "74000\t\t\t44367\t\t\t0.600\n",
            "75000\t\t\t44960\t\t\t0.599\n",
            "76000\t\t\t45549\t\t\t0.599\n",
            "77000\t\t\t46156\t\t\t0.599\n",
            "78000\t\t\t46764\t\t\t0.600\n",
            "79000\t\t\t47364\t\t\t0.600\n",
            "80000\t\t\t47986\t\t\t0.600\n",
            "81000\t\t\t48561\t\t\t0.600\n",
            "82000\t\t\t49175\t\t\t0.600\n",
            "83000\t\t\t49764\t\t\t0.600\n",
            "84000\t\t\t50371\t\t\t0.600\n",
            "85000\t\t\t50938\t\t\t0.599\n",
            "86000\t\t\t51549\t\t\t0.599\n",
            "87000\t\t\t52157\t\t\t0.600\n",
            "88000\t\t\t52781\t\t\t0.600\n",
            "89000\t\t\t53390\t\t\t0.600\n",
            "90000\t\t\t54027\t\t\t0.600\n",
            "91000\t\t\t54620\t\t\t0.600\n",
            "92000\t\t\t55205\t\t\t0.600\n",
            "93000\t\t\t55791\t\t\t0.600\n",
            "94000\t\t\t56367\t\t\t0.600\n",
            "95000\t\t\t56986\t\t\t0.600\n",
            "96000\t\t\t57588\t\t\t0.600\n",
            "97000\t\t\t58186\t\t\t0.600\n",
            "98000\t\t\t58757\t\t\t0.600\n",
            "99000\t\t\t59343\t\t\t0.599\n",
            "100000\t\t\t59935\t\t\t0.599\n"
          ],
          "name": "stdout"
        }
      ]
    },
    {
      "cell_type": "code",
      "metadata": {
        "id": "TT8pNLSlAWjR",
        "outputId": "391c7d26-5f2f-4319-e22c-533fd42d4e3f"
      },
      "source": [
        "plt.plot(np.arange(1000, pulls+1, step=1000), rewards_ucb)\n",
        "plt.xlabel(\"Iterations\")\n",
        "plt.ylabel(\"Average reward (V)\")"
      ],
      "execution_count": null,
      "outputs": [
        {
          "output_type": "execute_result",
          "data": {
            "text/plain": [
              "Text(0, 0.5, 'Average reward (V)')"
            ]
          },
          "metadata": {
            "tags": []
          },
          "execution_count": 69
        },
        {
          "output_type": "display_data",
          "data": {
            "image/png": "[encoded data removed]",
            "text/plain": [
              "<Figure size 432x288 with 1 Axes>"
            ]
          },
          "metadata": {
            "tags": [],
            "needs_background": "light"
          }
        }
      ]
    },
    {
      "cell_type": "code",
      "metadata": {
        "id": "zgfnlMU6AWjT"
      },
      "source": [
        ""
      ],
      "execution_count": null,
      "outputs": []
    }
  ]
}