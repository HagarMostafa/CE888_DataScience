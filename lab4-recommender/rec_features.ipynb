{
  "nbformat": 4,
  "nbformat_minor": 0,
  "metadata": {
    "kernelspec": {
      "display_name": "Python 3",
      "language": "python",
      "name": "python3"
    },
    "language_info": {
      "codemirror_mode": {
        "name": "ipython",
        "version": 3
      },
      "file_extension": ".py",
      "mimetype": "text/x-python",
      "name": "python",
      "nbconvert_exporter": "python",
      "pygments_lexer": "ipython3",
      "version": "3.6.6"
    },
    "colab": {
      "name": "rec_features.ipynb",
      "provenance": [],
      "include_colab_link": true
    },
    "pycharm": {
      "stem_cell": {
        "cell_type": "raw",
        "source": [],
        "metadata": {
          "collapsed": false
        }
      }
    }
  },
  "cells": [
    {
      "cell_type": "markdown",
      "metadata": {
        "id": "view-in-github",
        "colab_type": "text"
      },
      "source": [
        "<a href=\"https://colab.research.google.com/github/albanda/CE888/blob/master/lab4-recommender/rec_features.ipynb\" target=\"_parent\"><img src=\"https://colab.research.google.com/assets/colab-badge.svg\" alt=\"Open In Colab\"/></a>"
      ]
    },
    {
      "cell_type": "markdown",
      "metadata": {
        "id": "0TMA5W3gIb-5"
      },
      "source": [
        "# Hybrid Models for Recommendation Systems"
      ]
    },
    {
      "cell_type": "markdown",
      "metadata": {
        "id": "LrA3gbZrIb-_"
      },
      "source": [
        "Load Pandas, we are going to need it for manipulating data"
      ]
    },
    {
      "cell_type": "code",
      "metadata": {
        "id": "Ar1wmmhcIb_C"
      },
      "source": [
        "import pandas as pd\n",
        "import numpy as np\n",
        "from sklearn.svm import SVC\n",
        "\n",
        "np.set_printoptions(precision=3)"
      ],
      "execution_count": 1,
      "outputs": []
    },
    {
      "cell_type": "markdown",
      "metadata": {
        "id": "fv0tZ16wIb_U"
      },
      "source": [
        "Now load the data"
      ]
    },
    {
      "cell_type": "code",
      "metadata": {
        "id": "DUY-lQ-XIb_V"
      },
      "source": [
        "user_ratings_df = pd.read_csv(\"https://raw.githubusercontent.com/albanda/CE888/master/lab4-recommender/user_ratings.csv\")\n",
        "user_features_df = pd.read_csv(\"https://raw.githubusercontent.com/albanda/CE888/master/lab4-recommender/user_features.csv\")\n",
        "item_features_df = pd.read_csv(\"https://raw.githubusercontent.com/albanda/CE888/master/lab4-recommender/item_features.csv\")"
      ],
      "execution_count": 2,
      "outputs": []
    },
    {
      "cell_type": "code",
      "metadata": {
        "id": "mHsOLKp7Inlo"
      },
      "source": [
        "user_features_df[\"key\"] = 0\n",
        "user_features_df[\"user_id\"] = range(user_features_df.shape[0])\n",
        "item_features_df[\"key\"] = 0\n",
        "item_features_df[\"item_id\"] = range(item_features_df.shape[0])\n",
        "\n",
        "merged_df = pd.merge(user_features_df, item_features_df, left_index=True, on=\"key\")\n",
        "merged_df.drop(labels='key', axis=1, inplace=True)  # drop the \"key\" column\n"
      ],
      "execution_count": 3,
      "outputs": []
    },
    {
      "cell_type": "code",
      "metadata": {
        "id": "jtUf3DUkI90a",
        "colab": {
          "base_uri": "https://localhost:8080/",
          "height": 1000
        },
        "outputId": "80316ced-063a-4d87-bc5a-0bd88d9d5d89"
      },
      "source": [
        "merged_df[[\"item_id\", \"user_id\"]]"
      ],
      "execution_count": 4,
      "outputs": [
        {
          "output_type": "execute_result",
          "data": {
            "text/html": [
              "<div>\n",
              "<style scoped>\n",
              "    .dataframe tbody tr th:only-of-type {\n",
              "        vertical-align: middle;\n",
              "    }\n",
              "\n",
              "    .dataframe tbody tr th {\n",
              "        vertical-align: top;\n",
              "    }\n",
              "\n",
              "    .dataframe thead th {\n",
              "        text-align: right;\n",
              "    }\n",
              "</style>\n",
              "<table border=\"1\" class=\"dataframe\">\n",
              "  <thead>\n",
              "    <tr style=\"text-align: right;\">\n",
              "      <th></th>\n",
              "      <th>item_id</th>\n",
              "      <th>user_id</th>\n",
              "    </tr>\n",
              "  </thead>\n",
              "  <tbody>\n",
              "    <tr>\n",
              "      <th>0</th>\n",
              "      <td>0</td>\n",
              "      <td>0</td>\n",
              "    </tr>\n",
              "    <tr>\n",
              "      <th>1</th>\n",
              "      <td>1</td>\n",
              "      <td>0</td>\n",
              "    </tr>\n",
              "    <tr>\n",
              "      <th>2</th>\n",
              "      <td>2</td>\n",
              "      <td>0</td>\n",
              "    </tr>\n",
              "    <tr>\n",
              "      <th>3</th>\n",
              "      <td>3</td>\n",
              "      <td>0</td>\n",
              "    </tr>\n",
              "    <tr>\n",
              "      <th>4</th>\n",
              "      <td>4</td>\n",
              "      <td>0</td>\n",
              "    </tr>\n",
              "    <tr>\n",
              "      <th>0</th>\n",
              "      <td>0</td>\n",
              "      <td>1</td>\n",
              "    </tr>\n",
              "    <tr>\n",
              "      <th>1</th>\n",
              "      <td>1</td>\n",
              "      <td>1</td>\n",
              "    </tr>\n",
              "    <tr>\n",
              "      <th>2</th>\n",
              "      <td>2</td>\n",
              "      <td>1</td>\n",
              "    </tr>\n",
              "    <tr>\n",
              "      <th>3</th>\n",
              "      <td>3</td>\n",
              "      <td>1</td>\n",
              "    </tr>\n",
              "    <tr>\n",
              "      <th>4</th>\n",
              "      <td>4</td>\n",
              "      <td>1</td>\n",
              "    </tr>\n",
              "    <tr>\n",
              "      <th>0</th>\n",
              "      <td>0</td>\n",
              "      <td>2</td>\n",
              "    </tr>\n",
              "    <tr>\n",
              "      <th>1</th>\n",
              "      <td>1</td>\n",
              "      <td>2</td>\n",
              "    </tr>\n",
              "    <tr>\n",
              "      <th>2</th>\n",
              "      <td>2</td>\n",
              "      <td>2</td>\n",
              "    </tr>\n",
              "    <tr>\n",
              "      <th>3</th>\n",
              "      <td>3</td>\n",
              "      <td>2</td>\n",
              "    </tr>\n",
              "    <tr>\n",
              "      <th>4</th>\n",
              "      <td>4</td>\n",
              "      <td>2</td>\n",
              "    </tr>\n",
              "    <tr>\n",
              "      <th>0</th>\n",
              "      <td>0</td>\n",
              "      <td>3</td>\n",
              "    </tr>\n",
              "    <tr>\n",
              "      <th>1</th>\n",
              "      <td>1</td>\n",
              "      <td>3</td>\n",
              "    </tr>\n",
              "    <tr>\n",
              "      <th>2</th>\n",
              "      <td>2</td>\n",
              "      <td>3</td>\n",
              "    </tr>\n",
              "    <tr>\n",
              "      <th>3</th>\n",
              "      <td>3</td>\n",
              "      <td>3</td>\n",
              "    </tr>\n",
              "    <tr>\n",
              "      <th>4</th>\n",
              "      <td>4</td>\n",
              "      <td>3</td>\n",
              "    </tr>\n",
              "    <tr>\n",
              "      <th>0</th>\n",
              "      <td>0</td>\n",
              "      <td>4</td>\n",
              "    </tr>\n",
              "    <tr>\n",
              "      <th>1</th>\n",
              "      <td>1</td>\n",
              "      <td>4</td>\n",
              "    </tr>\n",
              "    <tr>\n",
              "      <th>2</th>\n",
              "      <td>2</td>\n",
              "      <td>4</td>\n",
              "    </tr>\n",
              "    <tr>\n",
              "      <th>3</th>\n",
              "      <td>3</td>\n",
              "      <td>4</td>\n",
              "    </tr>\n",
              "    <tr>\n",
              "      <th>4</th>\n",
              "      <td>4</td>\n",
              "      <td>4</td>\n",
              "    </tr>\n",
              "    <tr>\n",
              "      <th>0</th>\n",
              "      <td>0</td>\n",
              "      <td>5</td>\n",
              "    </tr>\n",
              "    <tr>\n",
              "      <th>1</th>\n",
              "      <td>1</td>\n",
              "      <td>5</td>\n",
              "    </tr>\n",
              "    <tr>\n",
              "      <th>2</th>\n",
              "      <td>2</td>\n",
              "      <td>5</td>\n",
              "    </tr>\n",
              "    <tr>\n",
              "      <th>3</th>\n",
              "      <td>3</td>\n",
              "      <td>5</td>\n",
              "    </tr>\n",
              "    <tr>\n",
              "      <th>4</th>\n",
              "      <td>4</td>\n",
              "      <td>5</td>\n",
              "    </tr>\n",
              "    <tr>\n",
              "      <th>0</th>\n",
              "      <td>0</td>\n",
              "      <td>6</td>\n",
              "    </tr>\n",
              "    <tr>\n",
              "      <th>1</th>\n",
              "      <td>1</td>\n",
              "      <td>6</td>\n",
              "    </tr>\n",
              "    <tr>\n",
              "      <th>2</th>\n",
              "      <td>2</td>\n",
              "      <td>6</td>\n",
              "    </tr>\n",
              "    <tr>\n",
              "      <th>3</th>\n",
              "      <td>3</td>\n",
              "      <td>6</td>\n",
              "    </tr>\n",
              "    <tr>\n",
              "      <th>4</th>\n",
              "      <td>4</td>\n",
              "      <td>6</td>\n",
              "    </tr>\n",
              "    <tr>\n",
              "      <th>0</th>\n",
              "      <td>0</td>\n",
              "      <td>7</td>\n",
              "    </tr>\n",
              "    <tr>\n",
              "      <th>1</th>\n",
              "      <td>1</td>\n",
              "      <td>7</td>\n",
              "    </tr>\n",
              "    <tr>\n",
              "      <th>2</th>\n",
              "      <td>2</td>\n",
              "      <td>7</td>\n",
              "    </tr>\n",
              "    <tr>\n",
              "      <th>3</th>\n",
              "      <td>3</td>\n",
              "      <td>7</td>\n",
              "    </tr>\n",
              "    <tr>\n",
              "      <th>4</th>\n",
              "      <td>4</td>\n",
              "      <td>7</td>\n",
              "    </tr>\n",
              "    <tr>\n",
              "      <th>0</th>\n",
              "      <td>0</td>\n",
              "      <td>8</td>\n",
              "    </tr>\n",
              "    <tr>\n",
              "      <th>1</th>\n",
              "      <td>1</td>\n",
              "      <td>8</td>\n",
              "    </tr>\n",
              "    <tr>\n",
              "      <th>2</th>\n",
              "      <td>2</td>\n",
              "      <td>8</td>\n",
              "    </tr>\n",
              "    <tr>\n",
              "      <th>3</th>\n",
              "      <td>3</td>\n",
              "      <td>8</td>\n",
              "    </tr>\n",
              "    <tr>\n",
              "      <th>4</th>\n",
              "      <td>4</td>\n",
              "      <td>8</td>\n",
              "    </tr>\n",
              "    <tr>\n",
              "      <th>0</th>\n",
              "      <td>0</td>\n",
              "      <td>9</td>\n",
              "    </tr>\n",
              "    <tr>\n",
              "      <th>1</th>\n",
              "      <td>1</td>\n",
              "      <td>9</td>\n",
              "    </tr>\n",
              "    <tr>\n",
              "      <th>2</th>\n",
              "      <td>2</td>\n",
              "      <td>9</td>\n",
              "    </tr>\n",
              "    <tr>\n",
              "      <th>3</th>\n",
              "      <td>3</td>\n",
              "      <td>9</td>\n",
              "    </tr>\n",
              "    <tr>\n",
              "      <th>4</th>\n",
              "      <td>4</td>\n",
              "      <td>9</td>\n",
              "    </tr>\n",
              "  </tbody>\n",
              "</table>\n",
              "</div>"
            ],
            "text/plain": [
              "   item_id  user_id\n",
              "0        0        0\n",
              "1        1        0\n",
              "2        2        0\n",
              "3        3        0\n",
              "4        4        0\n",
              "0        0        1\n",
              "1        1        1\n",
              "2        2        1\n",
              "3        3        1\n",
              "4        4        1\n",
              "0        0        2\n",
              "1        1        2\n",
              "2        2        2\n",
              "3        3        2\n",
              "4        4        2\n",
              "0        0        3\n",
              "1        1        3\n",
              "2        2        3\n",
              "3        3        3\n",
              "4        4        3\n",
              "0        0        4\n",
              "1        1        4\n",
              "2        2        4\n",
              "3        3        4\n",
              "4        4        4\n",
              "0        0        5\n",
              "1        1        5\n",
              "2        2        5\n",
              "3        3        5\n",
              "4        4        5\n",
              "0        0        6\n",
              "1        1        6\n",
              "2        2        6\n",
              "3        3        6\n",
              "4        4        6\n",
              "0        0        7\n",
              "1        1        7\n",
              "2        2        7\n",
              "3        3        7\n",
              "4        4        7\n",
              "0        0        8\n",
              "1        1        8\n",
              "2        2        8\n",
              "3        3        8\n",
              "4        4        8\n",
              "0        0        9\n",
              "1        1        9\n",
              "2        2        9\n",
              "3        3        9\n",
              "4        4        9"
            ]
          },
          "metadata": {
            "tags": []
          },
          "execution_count": 4
        }
      ]
    },
    {
      "cell_type": "code",
      "metadata": {
        "id": "Wx7WQjfEIpXL"
      },
      "source": [
        "merged_df[\"rating\"] = list(map(lambda ids: user_ratings_df.values[ids[1]][ids[2]], \n",
        "                          merged_df[[\"user_id\", \"item_id\"]].itertuples()))\n",
        "\n",
        "train = merged_df.dropna()\n",
        "test = merged_df[merged_df.isnull().any(axis=1)]"
      ],
      "execution_count": 21,
      "outputs": []
    },
    {
      "cell_type": "code",
      "metadata": {
        "id": "3CUKUdILUD06",
        "outputId": "8b472307-a475-4b13-f522-c182a7658bbd",
        "colab": {
          "base_uri": "https://localhost:8080/"
        }
      },
      "source": [
        "print(train.head())"
      ],
      "execution_count": 19,
      "outputs": [
        {
          "output_type": "stream",
          "text": [
            "   Sex   Over60  user_id  Critic0   Critic1  item_id  rating\n",
            "0  1.0      0.0        0      0.3       0.9        0     8.0\n",
            "1  1.0      0.0        0      0.9       0.3        1     2.0\n",
            "3  1.0      0.0        0      0.2       0.1        3     5.0\n",
            "4  1.0      0.0        0      0.7       0.8        4     4.0\n",
            "0  0.0      1.0        1      0.3       0.9        0     3.0\n"
          ],
          "name": "stdout"
        }
      ]
    },
    {
      "cell_type": "code",
      "metadata": {
        "id": "WtazfjDFUIij",
        "outputId": "fe3749f9-facc-47e0-c3f9-116c3a760d8a",
        "colab": {
          "base_uri": "https://localhost:8080/"
        }
      },
      "source": [
        "print(test.head())"
      ],
      "execution_count": 20,
      "outputs": [
        {
          "output_type": "stream",
          "text": [
            "   Sex   Over60  user_id  Critic0   Critic1  item_id  rating\n",
            "2  1.0      0.0        0      0.6       0.4        2     NaN\n",
            "2  0.0      1.0        1      0.6       0.4        2     NaN\n",
            "1  0.0      0.0        2      0.9       0.3        1     NaN\n",
            "0  1.0      0.0        3      0.3       0.9        0     NaN\n",
            "1  1.0      0.0        3      0.9       0.3        1     NaN\n"
          ],
          "name": "stdout"
        }
      ]
    },
    {
      "cell_type": "code",
      "metadata": {
        "id": "F_HlmmBQRXuo",
        "outputId": "324f3f2d-4bbf-4fa2-8072-7347da1d70f7",
        "colab": {
          "base_uri": "https://localhost:8080/"
        }
      },
      "source": [
        "X_tr, y_tr = train.iloc[:, :-1].values, train.iloc[:, -1].values  # separate into X and y\r\n",
        "\r\n",
        "clf = SVC()\r\n",
        "clf.fit(X_tr, y_tr)"
      ],
      "execution_count": 22,
      "outputs": [
        {
          "output_type": "execute_result",
          "data": {
            "text/plain": [
              "SVC(C=1.0, break_ties=False, cache_size=200, class_weight=None, coef0=0.0,\n",
              "    decision_function_shape='ovr', degree=3, gamma='scale', kernel='rbf',\n",
              "    max_iter=-1, probability=False, random_state=None, shrinking=True,\n",
              "    tol=0.001, verbose=False)"
            ]
          },
          "metadata": {
            "tags": []
          },
          "execution_count": 22
        }
      ]
    },
    {
      "cell_type": "code",
      "metadata": {
        "id": "UA3BcBqBURkN"
      },
      "source": [
        "X_test = test.iloc[:, :-1].values\r\n",
        "predictions = clf.predict(X_test)"
      ],
      "execution_count": 23,
      "outputs": []
    },
    {
      "cell_type": "code",
      "metadata": {
        "id": "OLyM2FIBIb_f",
        "colab": {
          "base_uri": "https://localhost:8080/"
        },
        "outputId": "1e75a71e-5a3a-41dd-ec30-41fcbf19c700"
      },
      "source": [
        "n_latent_factors = 2\n",
        "\n",
        "user_ratings = user_ratings_df.values\n",
        "latent_user_preferences = np.random.random((user_ratings.shape[0], n_latent_factors))\n",
        "latent_item_features = np.random.random((user_ratings.shape[1], n_latent_factors))\n",
        "\n",
        "user_features = user_features_df.values\n",
        "item_features = item_features_df.values\n",
        "\n",
        "user_features = np.concatenate([np.ones(shape=(user_features.shape[0],1)), user_features], axis=1)\n",
        "item_features = np.concatenate([np.ones(shape=(item_features.shape[0],1)), item_features], axis=1)\n",
        "\n",
        "user_features_weights = np.random.random((user_ratings.shape[0], user_features.shape[1]))\n",
        "item_features_weights = np.random.random((user_ratings.shape[1], item_features.shape[1]))\n",
        "\n",
        "print(user_features)"
      ],
      "execution_count": null,
      "outputs": [
        {
          "output_type": "stream",
          "text": [
            "[[1. 1. 0. 0. 0.]\n",
            " [1. 0. 1. 0. 1.]\n",
            " [1. 0. 0. 0. 2.]\n",
            " [1. 1. 0. 0. 3.]\n",
            " [1. 0. 1. 0. 4.]\n",
            " [1. 0. 0. 0. 5.]\n",
            " [1. 0. 0. 0. 6.]\n",
            " [1. 1. 0. 0. 7.]\n",
            " [1. 0. 1. 0. 8.]\n",
            " [1. 1. 0. 0. 9.]]\n"
          ],
          "name": "stdout"
        }
      ]
    },
    {
      "cell_type": "code",
      "metadata": {
        "id": "LlXWLYOpIb_m"
      },
      "source": [
        "def predict_rating(user_id, item_id):\n",
        "    \"\"\"\n",
        "    Predict a rating given a user_id and an item_id.\n",
        "    \"\"\"\n",
        "    user_preference = latent_user_preferences[user_id]\n",
        "    item_preference = latent_item_features[item_id]\n",
        "    \n",
        "    user_score = user_features_weights[user_id].dot(user_features[user_id])\n",
        "    item_score = item_features_weights[item_id].dot(item_features[item_id])\n",
        "    #print(user_preference.dot(item_preference), user_score, item_score)\n",
        "    return user_preference.dot(item_preference) + user_score + item_score\n",
        "\n",
        "\n",
        "def train(user_id, item_id, rating, alpha=0.001, \n",
        "          latent_feature_weight_decay=0.1,\n",
        "          user_weight_decay=0.01, item_weight_decay=0.0001):\n",
        "    #print(item_id)\n",
        "    prediction_rating = predict_rating(user_id, item_id)\n",
        "    err = prediction_rating - rating\n",
        "    #print(err)\n",
        "    user_pref_values = latent_user_preferences[user_id]\n",
        "    latent_user_preferences[user_id] -= alpha * err * (latent_item_features[item_id] + latent_feature_weight_decay * latent_user_preferences[user_id])\n",
        "    latent_item_features[item_id] -= alpha * err * (user_pref_values + latent_feature_weight_decay * latent_item_features[item_id])\n",
        "    \n",
        "    user_features_weights[user_id] -=alpha * err * (user_features[user_id] + user_weight_decay * user_features_weights[user_id])\n",
        "    item_features_weights[item_id] -=alpha * err * (item_features_weights[item_id] + item_weight_decay * item_features_weights[item_id])\n",
        "    \n",
        "    return err\n",
        "\n",
        "\n",
        "def sgd(iterations):\n",
        "    \"\"\" \n",
        "    Iterate over all users and all items and train for \n",
        "    a certain number of iterations\n",
        "    \"\"\"\n",
        "    for iteration in range(iterations):\n",
        "        error = []\n",
        "        for user_id in range(latent_user_preferences.shape[0]):\n",
        "            for item_id in range(latent_item_features.shape[0]):\n",
        "                rating = user_ratings[user_id, item_id]\n",
        "                if not np.isnan(rating):\n",
        "                    err = train(user_id, item_id, rating)\n",
        "                    error.append(err)\n",
        "    mse = (np.array(error) ** 2).mean()          \n",
        "    print(mse)\n"
      ],
      "execution_count": null,
      "outputs": []
    },
    {
      "cell_type": "code",
      "metadata": {
        "id": "e5-BOe0GIb_w",
        "colab": {
          "base_uri": "https://localhost:8080/"
        },
        "outputId": "0b74d901-0be9-4cca-97dd-a258a153f3ba"
      },
      "source": [
        "for _ in range(10): \n",
        "    sgd(30000)  # Note decreasing values with iterations"
      ],
      "execution_count": null,
      "outputs": [
        {
          "output_type": "stream",
          "text": [
            "0.2924306742808656\n",
            "0.28453077564694945\n",
            "0.2817163772237676\n",
            "0.28029527427222917\n",
            "0.27944187497457373\n",
            "0.2788770146949821\n",
            "0.27848036768199524\n",
            "0.27819148738609634\n",
            "0.27797666950397126\n",
            "0.2778156670168853\n"
          ],
          "name": "stdout"
        }
      ]
    },
    {
      "cell_type": "code",
      "metadata": {
        "id": "DpmTQzvSIb_1",
        "colab": {
          "base_uri": "https://localhost:8080/"
        },
        "outputId": "fe3c04f1-a4bc-4b06-f2a7-cfa41405abfd"
      },
      "source": [
        "predictions = np.zeros(shape=(latent_user_preferences.shape[0], latent_item_features.shape[0]))\n",
        "print(user_features_weights)\n",
        "print(item_features_weights)\n",
        "for user_id in range(latent_user_preferences.shape[0]):\n",
        "    for item_id in range(latent_item_features.shape[0]):\n",
        "        predictions[user_id, item_id] =  predict_rating(user_id, item_id)\n",
        "  "
      ],
      "execution_count": null,
      "outputs": [
        {
          "output_type": "stream",
          "text": [
            "[[-1.496 -1.307  0.444  0.539  0.628]\n",
            " [ 2.674  0.509  2.741  0.647  2.021]\n",
            " [ 0.339  0.126  0.938  0.005  0.84 ]\n",
            " [ 0.122  0.986  0.498  0.121  0.702]\n",
            " [ 0.46   0.093  0.017  0.817 -0.141]\n",
            " [ 0.895  0.12   0.722  0.793  1.09 ]\n",
            " [-0.156  0.074  0.539  0.733 -0.207]\n",
            " [ 0.833  0.652  0.242  0.973 -0.035]\n",
            " [ 0.925  0.431  0.601  0.134  0.754]\n",
            " [ 0.031  0.852  0.121  0.676 -0.289]]\n",
            "[[6.667e-01 1.579e+00 1.659e+00 6.338e-01 4.093e-01]\n",
            " [8.534e-03 3.520e-03 4.218e-03 5.424e-03 2.978e-03]\n",
            " [6.160e-01 3.625e+00 2.471e-01 3.220e+00 2.452e+00]\n",
            " [1.017e-01 8.029e-01 6.620e-01 1.816e-01 6.818e-01]\n",
            " [1.703e+00 1.240e+00 1.356e+00 1.803e+00 1.462e+00]]\n"
          ],
          "name": "stdout"
        }
      ]
    },
    {
      "cell_type": "code",
      "metadata": {
        "id": "2ITVPGaMIb_7"
      },
      "source": [
        "values = [zip(user_ratings[i], predictions[i]) for i in range(predictions.shape[0])]\n",
        "comparison_data = pd.DataFrame(values)\n",
        "comparison_data.columns = user_ratings_df.columns"
      ],
      "execution_count": null,
      "outputs": []
    },
    {
      "cell_type": "code",
      "metadata": {
        "id": "3m08BfJIIcAE",
        "pycharm": {
          "name": "#%%\n"
        },
        "colab": {
          "base_uri": "https://localhost:8080/",
          "height": 359
        },
        "outputId": "4d2f952a-9c2a-4b56-8f61-04dca047b0cd"
      },
      "source": [
        "comparison_data\n"
      ],
      "execution_count": null,
      "outputs": [
        {
          "output_type": "execute_result",
          "data": {
            "text/html": [
              "<div>\n",
              "<style scoped>\n",
              "    .dataframe tbody tr th:only-of-type {\n",
              "        vertical-align: middle;\n",
              "    }\n",
              "\n",
              "    .dataframe tbody tr th {\n",
              "        vertical-align: top;\n",
              "    }\n",
              "\n",
              "    .dataframe thead th {\n",
              "        text-align: right;\n",
              "    }\n",
              "</style>\n",
              "<table border=\"1\" class=\"dataframe\">\n",
              "  <thead>\n",
              "    <tr style=\"text-align: right;\">\n",
              "      <th></th>\n",
              "      <th>The Call of Cthulhu</th>\n",
              "      <th>Frankenstein</th>\n",
              "      <th>Dracula</th>\n",
              "      <th>Neuromancer</th>\n",
              "      <th>Space Odyssey</th>\n",
              "    </tr>\n",
              "  </thead>\n",
              "  <tbody>\n",
              "    <tr>\n",
              "      <th>0</th>\n",
              "      <td>(8.0, 7.989009214774393)</td>\n",
              "      <td>(2.0, 2.0298502407257972)</td>\n",
              "      <td>(nan, -21.07706957234261)</td>\n",
              "      <td>(5.0, 4.987066693419507)</td>\n",
              "      <td>(4.0, 3.9961884466574507)</td>\n",
              "    </tr>\n",
              "    <tr>\n",
              "      <th>1</th>\n",
              "      <td>(3.0, 2.8999445144728613)</td>\n",
              "      <td>(2.0, 2.5611088026228175)</td>\n",
              "      <td>(nan, 65.59528301522094)</td>\n",
              "      <td>(7.0, 6.61683521881328)</td>\n",
              "      <td>(7.0, 6.924038094649975)</td>\n",
              "    </tr>\n",
              "    <tr>\n",
              "      <th>2</th>\n",
              "      <td>(9.0, 9.045140131418352)</td>\n",
              "      <td>(nan, 4.359561735359623)</td>\n",
              "      <td>(7.0, 7.00313600116011)</td>\n",
              "      <td>(8.0, 7.949536858691001)</td>\n",
              "      <td>(5.0, 5.0007776886254)</td>\n",
              "    </tr>\n",
              "    <tr>\n",
              "      <th>3</th>\n",
              "      <td>(nan, 8.967631597452794)</td>\n",
              "      <td>(nan, 4.930348965028055)</td>\n",
              "      <td>(7.0, 7.0000060404902005)</td>\n",
              "      <td>(8.0, 7.9995708172424695)</td>\n",
              "      <td>(9.0, 8.999353129545058)</td>\n",
              "    </tr>\n",
              "    <tr>\n",
              "      <th>4</th>\n",
              "      <td>(nan, 3.807001082202804)</td>\n",
              "      <td>(1.0, 0.570007765561784)</td>\n",
              "      <td>(8.0, 7.98976007424398)</td>\n",
              "      <td>(3.0, 3.3696153784184646)</td>\n",
              "      <td>(7.0, 7.053859914069573)</td>\n",
              "    </tr>\n",
              "    <tr>\n",
              "      <th>5</th>\n",
              "      <td>(2.0, 2.001749622460377)</td>\n",
              "      <td>(3.0, 2.995069364751593)</td>\n",
              "      <td>(5.0, 5.000022201138316)</td>\n",
              "      <td>(nan, 2.2937471837542627)</td>\n",
              "      <td>(nan, 32.34688589300806)</td>\n",
              "    </tr>\n",
              "    <tr>\n",
              "      <th>6</th>\n",
              "      <td>(4.0, 4.307705591973359)</td>\n",
              "      <td>(2.0, 0.43730846358782094)</td>\n",
              "      <td>(nan, -3.6998449407284824)</td>\n",
              "      <td>(2.0, 2.999215875707626)</td>\n",
              "      <td>(7.0, 7.205439717829883)</td>\n",
              "    </tr>\n",
              "    <tr>\n",
              "      <th>7</th>\n",
              "      <td>(7.0, 6.762140454422343)</td>\n",
              "      <td>(1.0, 2.907086263403007)</td>\n",
              "      <td>(2.0, 2.081245659730257)</td>\n",
              "      <td>(7.0, 5.661495055235152)</td>\n",
              "      <td>(9.0, 8.759411762048767)</td>\n",
              "    </tr>\n",
              "    <tr>\n",
              "      <th>8</th>\n",
              "      <td>(3.0, 3.1013073890122174)</td>\n",
              "      <td>(3.0, 2.518825593521948)</td>\n",
              "      <td>(nan, 74.2135973583635)</td>\n",
              "      <td>(7.0, 7.29050165818998)</td>\n",
              "      <td>(3.0, 3.061401919598006)</td>\n",
              "    </tr>\n",
              "    <tr>\n",
              "      <th>9</th>\n",
              "      <td>(4.0, 3.8908403463985706)</td>\n",
              "      <td>(nan, -0.14773235754631464)</td>\n",
              "      <td>(5.0, 4.983946474710881)</td>\n",
              "      <td>(3.0, 3.1110872431062866)</td>\n",
              "      <td>(3.0, 2.9966828940180683)</td>\n",
              "    </tr>\n",
              "  </tbody>\n",
              "</table>\n",
              "</div>"
            ],
            "text/plain": [
              "         The Call of Cthulhu  ...              Space Odyssey\n",
              "0   (8.0, 7.989009214774393)  ...  (4.0, 3.9961884466574507)\n",
              "1  (3.0, 2.8999445144728613)  ...   (7.0, 6.924038094649975)\n",
              "2   (9.0, 9.045140131418352)  ...     (5.0, 5.0007776886254)\n",
              "3   (nan, 8.967631597452794)  ...   (9.0, 8.999353129545058)\n",
              "4   (nan, 3.807001082202804)  ...   (7.0, 7.053859914069573)\n",
              "5   (2.0, 2.001749622460377)  ...   (nan, 32.34688589300806)\n",
              "6   (4.0, 4.307705591973359)  ...   (7.0, 7.205439717829883)\n",
              "7   (7.0, 6.762140454422343)  ...   (9.0, 8.759411762048767)\n",
              "8  (3.0, 3.1013073890122174)  ...   (3.0, 3.061401919598006)\n",
              "9  (4.0, 3.8908403463985706)  ...  (3.0, 2.9966828940180683)\n",
              "\n",
              "[10 rows x 5 columns]"
            ]
          },
          "metadata": {
            "tags": []
          },
          "execution_count": 20
        }
      ]
    },
    {
      "cell_type": "code",
      "metadata": {
        "id": "TbueESxFu1uE"
      },
      "source": [
        ""
      ],
      "execution_count": null,
      "outputs": []
    }
  ]
}