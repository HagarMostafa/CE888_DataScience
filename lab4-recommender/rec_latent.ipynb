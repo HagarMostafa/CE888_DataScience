{
  "nbformat": 4,
  "nbformat_minor": 0,
  "metadata": {
    "kernelspec": {
      "display_name": "Python 3",
      "language": "python",
      "name": "python3"
    },
    "language_info": {
      "codemirror_mode": {
        "name": "ipython",
        "version": 3
      },
      "file_extension": ".py",
      "mimetype": "text/x-python",
      "name": "python",
      "nbconvert_exporter": "python",
      "pygments_lexer": "ipython3",
      "version": "3.6.6"
    },
    "pycharm": {
      "stem_cell": {
        "cell_type": "raw",
        "source": [],
        "metadata": {
          "collapsed": false
        }
      }
    },
    "colab": {
      "name": "rec_latent.ipynb",
      "provenance": [],
      "include_colab_link": true
    }
  },
  "cells": [
    {
      "cell_type": "markdown",
      "metadata": {
        "id": "view-in-github",
        "colab_type": "text"
      },
      "source": [
        "<a href=\"https://colab.research.google.com/github/albanda/CE888/blob/master/lab4-recommender/rec_latent.ipynb\" target=\"_parent\"><img src=\"https://colab.research.google.com/assets/colab-badge.svg\" alt=\"Open In Colab\"/></a>"
      ]
    },
    {
      "cell_type": "markdown",
      "metadata": {
        "id": "nr5vmuieudwA"
      },
      "source": [
        "# Latent Factor Models for Collaborative Filtering"
      ]
    },
    {
      "cell_type": "markdown",
      "metadata": {
        "id": "9IwOt0KmudwF"
      },
      "source": [
        "Load required libraries"
      ]
    },
    {
      "cell_type": "code",
      "metadata": {
        "id": "mMK0wtc7udwK"
      },
      "source": [
        "import pandas as pd\n",
        "import numpy as np\n",
        "import matplotlib.pyplot as plt\n",
        "np.set_printoptions(precision=3)"
      ],
      "execution_count": null,
      "outputs": []
    },
    {
      "cell_type": "markdown",
      "metadata": {
        "id": "VktPdK5Zudwg"
      },
      "source": [
        "Now load the data"
      ]
    },
    {
      "cell_type": "code",
      "metadata": {
        "id": "f7TJ-p56udwi"
      },
      "source": [
        "data = pd.read_csv(\"https://raw.githubusercontent.com/albanda/CE888/master/lab4-recommender/user_ratings.csv\")"
      ],
      "execution_count": null,
      "outputs": []
    },
    {
      "cell_type": "code",
      "metadata": {
        "id": "hiebFNqnudwq"
      },
      "source": [
        "n_latent_factors = 2\n",
        "\n",
        "user_ratings = data.values\n",
        "# Initialise as random values\n",
        "latent_user_preferences = np.random.random((user_ratings.shape[0], n_latent_factors))\n",
        "latent_item_features = np.random.random((user_ratings.shape[1], n_latent_factors))"
      ],
      "execution_count": null,
      "outputs": []
    },
    {
      "cell_type": "code",
      "metadata": {
        "id": "AH-TJAWIudww",
        "colab": {
          "base_uri": "https://localhost:8080/"
        },
        "outputId": "e5f4c45b-8c1d-4d9d-f053-b0b5c3ceac93"
      },
      "source": [
        "latent_item_features"
      ],
      "execution_count": null,
      "outputs": [
        {
          "output_type": "execute_result",
          "data": {
            "text/plain": [
              "array([[0.765, 0.742],\n",
              "       [0.747, 0.327],\n",
              "       [0.426, 0.798],\n",
              "       [0.756, 0.94 ],\n",
              "       [0.435, 0.816]])"
            ]
          },
          "metadata": {
            "tags": []
          },
          "execution_count": 5
        }
      ]
    },
    {
      "cell_type": "code",
      "metadata": {
        "id": "i2XBYI2-udw2",
        "colab": {
          "base_uri": "https://localhost:8080/"
        },
        "outputId": "62a1d8a7-3784-4de5-9fc1-9cfeaecfcd65"
      },
      "source": [
        "latent_user_preferences"
      ],
      "execution_count": null,
      "outputs": [
        {
          "output_type": "execute_result",
          "data": {
            "text/plain": [
              "array([[0.09 , 0.339],\n",
              "       [0.338, 0.775],\n",
              "       [0.432, 0.165],\n",
              "       [0.033, 0.053],\n",
              "       [0.924, 0.133],\n",
              "       [0.704, 0.885],\n",
              "       [0.224, 0.27 ],\n",
              "       [0.252, 0.461],\n",
              "       [0.543, 0.187],\n",
              "       [0.674, 0.782]])"
            ]
          },
          "metadata": {
            "tags": []
          },
          "execution_count": 6
        }
      ]
    },
    {
      "cell_type": "code",
      "metadata": {
        "id": "Q8V063y2udw8"
      },
      "source": [
        "def predict_rating(user_id, item_id):\n",
        "    \"\"\" Predict a rating given a user_id and an item_id.\n",
        "    \"\"\"\n",
        "    user_preference = latent_user_preferences[user_id]\n",
        "    item_preference = latent_item_features[item_id]\n",
        "    return user_preference.dot(item_preference)\n",
        "\n",
        "\n",
        "def train(user_id, item_id, rating, alpha=0.0001):\n",
        "    #print(item_id)\n",
        "    predicted_rating = predict_rating(user_id, item_id)\n",
        "    err =  predicted_rating - rating\n",
        "    #print(err)\n",
        "    user_pref_values = latent_user_preferences[user_id]\n",
        "    latent_user_preferences[user_id] -= alpha * err * latent_item_features[item_id]\n",
        "    latent_item_features[item_id] -= alpha * err * user_pref_values\n",
        "    return err\n",
        "    \n",
        "\n",
        "def sgd(iterations):\n",
        "    \"\"\" Iterate over all users and all items and train for \n",
        "        a certain number of iterations\n",
        "    \"\"\"\n",
        "    mse_history = []\n",
        "    for iteration in range(iterations):\n",
        "        error = []\n",
        "        for user_id in range(latent_user_preferences.shape[0]):\n",
        "            for item_id in range(latent_item_features.shape[0]):\n",
        "                rating = user_ratings[user_id, item_id]\n",
        "                if not np.isnan(rating):\n",
        "                    err = train(user_id, item_id, rating)\n",
        "                    error.append(err)\n",
        "        mse = (np.array(error) ** 2).mean()   \n",
        "        if (iteration % 10000) == 0:\n",
        "            print('Iteration %d/%d:\\tMSE=%.6f' % (iteration, iterations, mse))\n",
        "            mse_history.append(mse)\n",
        "    return mse_history"
      ],
      "execution_count": null,
      "outputs": []
    },
    {
      "cell_type": "code",
      "metadata": {
        "id": "B4AG2bDqudxE",
        "colab": {
          "base_uri": "https://localhost:8080/",
          "height": 834
        },
        "outputId": "0c287c91-8426-4419-8d8d-1d21c6cf4724"
      },
      "source": [
        "num_iter = 300000\n",
        "hist = sgd(num_iter)  # Note how the MSE decreases with the number of iterations\n",
        "plt.figure()\n",
        "plt.plot(np.arange(0, num_iter, 10000), hist)\n",
        "plt.xlabel(\"Iterations\")\n",
        "plt.ylabel(\"MSE\")\n",
        "plt.show()"
      ],
      "execution_count": null,
      "outputs": [
        {
          "output_type": "stream",
          "text": [
            "Iteration 0/300000:\tMSE=25.748564\n",
            "Iteration 10000/300000:\tMSE=1.378170\n",
            "Iteration 20000/300000:\tMSE=1.340361\n",
            "Iteration 30000/300000:\tMSE=1.320571\n",
            "Iteration 40000/300000:\tMSE=1.289941\n",
            "Iteration 50000/300000:\tMSE=1.256576\n",
            "Iteration 60000/300000:\tMSE=1.233098\n",
            "Iteration 70000/300000:\tMSE=1.220401\n",
            "Iteration 80000/300000:\tMSE=1.213847\n",
            "Iteration 90000/300000:\tMSE=1.210266\n",
            "Iteration 100000/300000:\tMSE=1.208154\n",
            "Iteration 110000/300000:\tMSE=1.206821\n",
            "Iteration 120000/300000:\tMSE=1.205931\n",
            "Iteration 130000/300000:\tMSE=1.205312\n",
            "Iteration 140000/300000:\tMSE=1.204865\n",
            "Iteration 150000/300000:\tMSE=1.204534\n",
            "Iteration 160000/300000:\tMSE=1.204283\n",
            "Iteration 170000/300000:\tMSE=1.204090\n",
            "Iteration 180000/300000:\tMSE=1.203938\n",
            "Iteration 190000/300000:\tMSE=1.203818\n",
            "Iteration 200000/300000:\tMSE=1.203722\n",
            "Iteration 210000/300000:\tMSE=1.203644\n",
            "Iteration 220000/300000:\tMSE=1.203580\n",
            "Iteration 230000/300000:\tMSE=1.203528\n",
            "Iteration 240000/300000:\tMSE=1.203485\n",
            "Iteration 250000/300000:\tMSE=1.203450\n",
            "Iteration 260000/300000:\tMSE=1.203420\n",
            "Iteration 270000/300000:\tMSE=1.203396\n",
            "Iteration 280000/300000:\tMSE=1.203375\n",
            "Iteration 290000/300000:\tMSE=1.203358\n"
          ],
          "name": "stdout"
        },
        {
          "output_type": "display_data",
          "data": {
            "image/png": "[encoded data removed]",
            "text/plain": [
              "<Figure size 432x288 with 1 Axes>"
            ]
          },
          "metadata": {
            "tags": [],
            "needs_background": "light"
          }
        }
      ]
    },
    {
      "cell_type": "code",
      "metadata": {
        "id": "L8Tfh1BzudxM",
        "colab": {
          "base_uri": "https://localhost:8080/"
        },
        "outputId": "b1edbc81-b1d6-4192-aefa-6ab9b824bdca"
      },
      "source": [
        "predictions = latent_user_preferences.dot(latent_item_features.T)\n",
        "predictions"
      ],
      "execution_count": null,
      "outputs": [
        {
          "output_type": "execute_result",
          "data": {
            "text/plain": [
              "array([[  7.207,   1.631,  10.848,   4.141,   5.723],\n",
              "       [  3.529,   2.2  , -11.305,   7.574,   5.866],\n",
              "       [  8.109,   2.281,   6.919,   6.423,   7.413],\n",
              "       [  9.601,   2.801,   7.001,   8.004,   8.998],\n",
              "       [  6.537,   1.617,   8.208,   4.301,   5.492],\n",
              "       [  2.847,   0.601,   4.798,   1.464,   2.166],\n",
              "       [  5.254,   1.328,   6.257,   3.57 ,   4.477],\n",
              "       [  7.492,   2.477,   2.009,   7.398,   7.658],\n",
              "       [  2.323,   1.803, -11.647,   6.389,   4.637],\n",
              "       [  3.991,   0.992,   4.949,   2.646,   3.364]])"
            ]
          },
          "metadata": {
            "tags": []
          },
          "execution_count": 9
        }
      ]
    },
    {
      "cell_type": "code",
      "metadata": {
        "id": "TAiX0X8NudxY"
      },
      "source": [
        "values = [zip(user_ratings[i], predictions[i]) for i in range(predictions.shape[0])]\n",
        "comparison_data = pd.DataFrame(values)\n",
        "comparison_data.columns = data.columns"
      ],
      "execution_count": null,
      "outputs": []
    },
    {
      "cell_type": "code",
      "metadata": {
        "pycharm": {
          "name": "#%%\n"
        },
        "id": "SYdnh4Qiudxg",
        "colab": {
          "base_uri": "https://localhost:8080/",
          "height": 363
        },
        "outputId": "41d4da89-5a87-4409-ac92-0ed6f6ad9337"
      },
      "source": [
        "comparison_data\n",
        "# For each data point, the number on the left is the original value from the dataset, the number on the right is the prediction"
      ],
      "execution_count": null,
      "outputs": [
        {
          "output_type": "execute_result",
          "data": {
            "text/html": [
              "<div>\n",
              "<style scoped>\n",
              "    .dataframe tbody tr th:only-of-type {\n",
              "        vertical-align: middle;\n",
              "    }\n",
              "\n",
              "    .dataframe tbody tr th {\n",
              "        vertical-align: top;\n",
              "    }\n",
              "\n",
              "    .dataframe thead th {\n",
              "        text-align: right;\n",
              "    }\n",
              "</style>\n",
              "<table border=\"1\" class=\"dataframe\">\n",
              "  <thead>\n",
              "    <tr style=\"text-align: right;\">\n",
              "      <th></th>\n",
              "      <th>The Call of Cthulhu</th>\n",
              "      <th>Frankenstein</th>\n",
              "      <th>Dracula</th>\n",
              "      <th>Neuromancer</th>\n",
              "      <th>Space Odyssey</th>\n",
              "    </tr>\n",
              "  </thead>\n",
              "  <tbody>\n",
              "    <tr>\n",
              "      <th>0</th>\n",
              "      <td>(8.0, 7.206972650172823)</td>\n",
              "      <td>(2.0, 1.6306181821584012)</td>\n",
              "      <td>(nan, 10.848057655930669)</td>\n",
              "      <td>(5.0, 4.140701531281966)</td>\n",
              "      <td>(4.0, 5.722719151107845)</td>\n",
              "    </tr>\n",
              "    <tr>\n",
              "      <th>1</th>\n",
              "      <td>(3.0, 3.528543191251308)</td>\n",
              "      <td>(2.0, 2.200145089942689)</td>\n",
              "      <td>(nan, -11.304961610670397)</td>\n",
              "      <td>(7.0, 7.573890560714654)</td>\n",
              "      <td>(7.0, 5.86586662215034)</td>\n",
              "    </tr>\n",
              "    <tr>\n",
              "      <th>2</th>\n",
              "      <td>(9.0, 8.108577296363457)</td>\n",
              "      <td>(nan, 2.2805397669649996)</td>\n",
              "      <td>(7.0, 6.919342759815824)</td>\n",
              "      <td>(8.0, 6.423155614223536)</td>\n",
              "      <td>(5.0, 7.41334463051499)</td>\n",
              "    </tr>\n",
              "    <tr>\n",
              "      <th>3</th>\n",
              "      <td>(nan, 9.601180213113857)</td>\n",
              "      <td>(nan, 2.800925128465576)</td>\n",
              "      <td>(7.0, 7.000684353973834)</td>\n",
              "      <td>(8.0, 8.003525976045744)</td>\n",
              "      <td>(9.0, 8.99783999957378)</td>\n",
              "    </tr>\n",
              "    <tr>\n",
              "      <th>4</th>\n",
              "      <td>(nan, 6.537292414549124)</td>\n",
              "      <td>(1.0, 1.6168006664818662)</td>\n",
              "      <td>(8.0, 8.207796004453979)</td>\n",
              "      <td>(3.0, 4.3007983180802585)</td>\n",
              "      <td>(7.0, 5.4919430781133665)</td>\n",
              "    </tr>\n",
              "    <tr>\n",
              "      <th>5</th>\n",
              "      <td>(2.0, 2.846770670450129)</td>\n",
              "      <td>(3.0, 0.6007883377663776)</td>\n",
              "      <td>(5.0, 4.79837880115881)</td>\n",
              "      <td>(nan, 1.4642196927748017)</td>\n",
              "      <td>(nan, 2.165821756198531)</td>\n",
              "    </tr>\n",
              "    <tr>\n",
              "      <th>6</th>\n",
              "      <td>(4.0, 5.254291776720541)</td>\n",
              "      <td>(2.0, 1.328184824542092)</td>\n",
              "      <td>(nan, 6.256802896038673)</td>\n",
              "      <td>(2.0, 3.5702707642205014)</td>\n",
              "      <td>(7.0, 4.476823292967315)</td>\n",
              "    </tr>\n",
              "    <tr>\n",
              "      <th>7</th>\n",
              "      <td>(7.0, 7.49157410063708)</td>\n",
              "      <td>(1.0, 2.4768460607450855)</td>\n",
              "      <td>(2.0, 2.0089389683337826)</td>\n",
              "      <td>(7.0, 7.397774388220061)</td>\n",
              "      <td>(9.0, 7.657631066361649)</td>\n",
              "    </tr>\n",
              "    <tr>\n",
              "      <th>8</th>\n",
              "      <td>(3.0, 2.3226509056323676)</td>\n",
              "      <td>(3.0, 1.8030652814881438)</td>\n",
              "      <td>(nan, -11.647410204017433)</td>\n",
              "      <td>(7.0, 6.389464841180576)</td>\n",
              "      <td>(3.0, 4.636762477722259)</td>\n",
              "    </tr>\n",
              "    <tr>\n",
              "      <th>9</th>\n",
              "      <td>(4.0, 3.9908132083032264)</td>\n",
              "      <td>(nan, 0.9921866540027302)</td>\n",
              "      <td>(5.0, 4.9491992875663025)</td>\n",
              "      <td>(3.0, 2.6460004638165264)</td>\n",
              "      <td>(3.0, 3.363982946670603)</td>\n",
              "    </tr>\n",
              "  </tbody>\n",
              "</table>\n",
              "</div>"
            ],
            "text/plain": [
              "         The Call of Cthulhu  ...              Space Odyssey\n",
              "0   (8.0, 7.206972650172823)  ...   (4.0, 5.722719151107845)\n",
              "1   (3.0, 3.528543191251308)  ...    (7.0, 5.86586662215034)\n",
              "2   (9.0, 8.108577296363457)  ...    (5.0, 7.41334463051499)\n",
              "3   (nan, 9.601180213113857)  ...    (9.0, 8.99783999957378)\n",
              "4   (nan, 6.537292414549124)  ...  (7.0, 5.4919430781133665)\n",
              "5   (2.0, 2.846770670450129)  ...   (nan, 2.165821756198531)\n",
              "6   (4.0, 5.254291776720541)  ...   (7.0, 4.476823292967315)\n",
              "7    (7.0, 7.49157410063708)  ...   (9.0, 7.657631066361649)\n",
              "8  (3.0, 2.3226509056323676)  ...   (3.0, 4.636762477722259)\n",
              "9  (4.0, 3.9908132083032264)  ...   (3.0, 3.363982946670603)\n",
              "\n",
              "[10 rows x 5 columns]"
            ]
          },
          "metadata": {
            "tags": []
          },
          "execution_count": 11
        }
      ]
    },
    {
      "cell_type": "code",
      "metadata": {
        "id": "KdZnF37RoyMp"
      },
      "source": [
        ""
      ],
      "execution_count": null,
      "outputs": []
    }
  ]
}