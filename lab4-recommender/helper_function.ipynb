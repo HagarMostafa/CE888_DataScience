{
 "cells": [
  {
   "cell_type": "code",
   "execution_count": 0,
   "metadata": {
    "colab": {},
    "colab_type": "code",
    "id": "Azx-162uO6Ki"
   },
   "outputs": [],
   "source": [
    "import pandas as pd\n",
    "import numpy as np\n",
    "from IPython.display import Image\n",
    "np.set_printoptions(precision = 3)"
   ]
  },
  {
   "cell_type": "code",
   "execution_count": 4,
   "metadata": {
    "colab": {
     "base_uri": "https://localhost:8080/",
     "height": 276
    },
    "colab_type": "code",
    "id": "iivDuU8FPA-6",
    "outputId": "5539609a-90e9-440b-8cee-4b886a2d572e"
   },
   "outputs": [
    {
     "name": "stdout",
     "output_type": "stream",
     "text": [
      "        74  -7.82   8.79  -9.66  -8.16  ...  99.22  -5.63  99.23  99.24  99.25\n",
      "0      100   4.08  -0.29   6.36   4.37  ...  -2.14   3.06   0.34  -4.32   1.07\n",
      "1       49  99.00  99.00  99.00  99.00  ...  99.00  99.00  99.00  99.00  99.00\n",
      "2       48  99.00   8.35  99.00  99.00  ...  99.00  99.00  99.00  99.00  99.00\n",
      "3       91   8.50   4.61  -4.17  -5.39  ...   1.55   3.11   6.55   1.80   1.60\n",
      "4      100  -6.17  -3.54   0.44  -8.50  ...  -3.35   0.05  -9.08  -5.05  -3.45\n",
      "...    ...    ...    ...    ...    ...  ...    ...    ...    ...    ...    ...\n",
      "11186   72   2.82  -4.32  -8.64  -8.83  ...  99.00  99.00  99.00  99.00  99.00\n",
      "11187   41  99.00  99.00  99.00  99.00  ...  99.00  99.00  99.00  99.00  99.00\n",
      "11188   40  99.00  99.00  99.00  99.00  ...  99.00  99.00  99.00  99.00  99.00\n",
      "11189  100  -3.25   7.67   2.96  -2.33  ...   4.37   2.57   7.91  -3.20  -1.02\n",
      "11190   59  99.00  99.00  99.00  -5.58  ...    NaN    NaN    NaN    NaN    NaN\n",
      "\n",
      "[11191 rows x 101 columns]\n"
     ]
    }
   ],
   "source": [
    "df = pd.read_csv('jester-data-1.csv')\n",
    "print(df)"
   ]
  },
  {
   "cell_type": "code",
   "execution_count": 5,
   "metadata": {
    "colab": {
     "base_uri": "https://localhost:8080/",
     "height": 36
    },
    "colab_type": "code",
    "id": "RoRa5BXQPL3f",
    "outputId": "417b9ccd-597c-4056-ee51-9d9a147ec000"
   },
   "outputs": [
    {
     "name": "stdout",
     "output_type": "stream",
     "text": [
      "(11191, 101)\n"
     ]
    }
   ],
   "source": [
    "arr = df.values\n",
    "print(arr.shape)"
   ]
  },
  {
   "cell_type": "code",
   "execution_count": 16,
   "metadata": {
    "colab": {
     "base_uri": "https://localhost:8080/",
     "height": 36
    },
    "colab_type": "code",
    "id": "BSw1IHSyPTcL",
    "outputId": "112fd410-a3c9-4169-c660-2a88eea97d7d"
   },
   "outputs": [
    {
     "name": "stdout",
     "output_type": "stream",
     "text": [
      "818450 (818450,)\n"
     ]
    }
   ],
   "source": [
    "rated = np.where(arr!=99)\n",
    "print(len(rated[0]), rated[1].shape)"
   ]
  },
  {
   "cell_type": "code",
   "execution_count": 0,
   "metadata": {
    "colab": {},
    "colab_type": "code",
    "id": "811TzpLFPlaN"
   },
   "outputs": [],
   "source": [
    "def replace(orig, percentage=0.1):\n",
    "  \"\"\"\n",
    "  Replaces 'percentage'% of the original values in 'orig' with 99's\n",
    "  :param orig: original data array\n",
    "  :param percentage: percentage of values to replace (0<percentage<1)\n",
    "  \"\"\"\n",
    "  new_data = orig.copy()\n",
    "  rated = np.where(arr!=99)\n",
    "  n_rated = len(rated[0])\n",
    "  idx = np.random.choice(n_rated, size=int(percentage*n_rated), replace=False)\n",
    "  new_data[rated[0][idx], rated[1][idx]] = 99\n",
    "  return new_data, (rated[0][idx], rated[1][idx])\n"
   ]
  },
  {
   "cell_type": "code",
   "execution_count": 0,
   "metadata": {
    "colab": {},
    "colab_type": "code",
    "id": "VZ3dnTF3RFW4"
   },
   "outputs": [],
   "source": [
    "new_arr, idx = replace(arr, 0.1)"
   ]
  },
  {
   "cell_type": "code",
   "execution_count": 35,
   "metadata": {
    "colab": {
     "base_uri": "https://localhost:8080/",
     "height": 36
    },
    "colab_type": "code",
    "id": "hj0yl47dRwKy",
    "outputId": "242e8ca0-65ac-47bf-a081-fd30119c8d03"
   },
   "outputs": [
    {
     "data": {
      "text/plain": [
       "-5.15"
      ]
     },
     "execution_count": 35,
     "metadata": {
      "tags": []
     },
     "output_type": "execute_result"
    }
   ],
   "source": [
    "\n",
    "arr[idx[0][0], idx[1][0]]"
   ]
  },
  {
   "cell_type": "code",
   "execution_count": 36,
   "metadata": {
    "colab": {
     "base_uri": "https://localhost:8080/",
     "height": 36
    },
    "colab_type": "code",
    "id": "NTpRwdPXR1GZ",
    "outputId": "4daf2ffb-793c-4281-a427-8d78bdcbe16d"
   },
   "outputs": [
    {
     "data": {
      "text/plain": [
       "99.0"
      ]
     },
     "execution_count": 36,
     "metadata": {
      "tags": []
     },
     "output_type": "execute_result"
    }
   ],
   "source": [
    "new_arr[idx[0][0], idx[1][0]]"
   ]
  }
 ],
 "metadata": {
  "colab": {
   "name": "Untitled0.ipynb",
   "provenance": []
  },
  "kernelspec": {
   "display_name": "Python 3",
   "language": "python",
   "name": "python3"
  },
  "language_info": {
   "codemirror_mode": {
    "name": "ipython",
    "version": 3
   },
   "file_extension": ".py",
   "mimetype": "text/x-python",
   "name": "python",
   "nbconvert_exporter": "python",
   "pygments_lexer": "ipython3",
   "version": "3.8.8"
  }
 },
 "nbformat": 4,
 "nbformat_minor": 1
}
