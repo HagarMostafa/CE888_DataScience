{
  "cells": [
    {
      "cell_type": "markdown",
      "metadata": {
        "id": "view-in-github",
        "colab_type": "text"
      },
      "source": [
        "<a href=\"https://colab.research.google.com/github/albanda/CE888/blob/master/lab8/rnn.ipynb\" target=\"_parent\"><img src=\"https://colab.research.google.com/assets/colab-badge.svg\" alt=\"Open In Colab\"/></a>"
      ]
    },
    {
      "cell_type": "markdown",
      "source": [
        "# Learning from Sequences: Timeseries and Text\n",
        "\n",
        "Created by Dr Ana Matran-Fernandez (amatra@essex.ac.uk) for CE888 (Data Science and Decision Making)\n",
        "\n",
        "This notebook accompanies lecture 8 and illustrates recurrent neural networks on an example of a timeseries (predicting tomorrow's temperature) and a classification problem on the IMDB text dataset."
      ],
      "metadata": {
        "id": "gS1IIAS-bcb-"
      }
    },
    {
      "cell_type": "markdown",
      "source": [
        "# Imports"
      ],
      "metadata": {
        "id": "0myiQp20cxRK"
      }
    },
    {
      "cell_type": "code",
      "execution_count": null,
      "metadata": {
        "id": "1J0bYBQ7_a0L"
      },
      "outputs": [],
      "source": [
        "# imports\n",
        "import numpy as np\n",
        "import matplotlib.pyplot as plt\n",
        "import os\n",
        "import pandas as pd\n",
        "from sklearn.model_selection import train_test_split"
      ]
    },
    {
      "cell_type": "code",
      "execution_count": null,
      "metadata": {
        "id": "U0NPDv7X_a0M"
      },
      "outputs": [],
      "source": [
        "# tensorflow imports\n",
        "from tensorflow import keras\n",
        "from keras import layers, models\n",
        "from keras.callbacks import EarlyStopping, ModelCheckpoint"
      ]
    },
    {
      "cell_type": "markdown",
      "source": [
        "# Timeseries"
      ],
      "metadata": {
        "id": "xaiw_VZjbtSH"
      }
    },
    {
      "cell_type": "code",
      "execution_count": null,
      "metadata": {
        "colab": {
          "base_uri": "https://localhost:8080/",
          "height": 424
        },
        "id": "iA_R1Q-K_a0N",
        "outputId": "94162d66-4d0a-4f95-9cd8-3e94c4623704"
      },
      "outputs": [
        {
          "output_type": "execute_result",
          "data": {
            "text/html": [
              "\n",
              "  <div id=\"df-ee21f8e3-0dcf-4371-ab5f-34776d61cf77\">\n",
              "    <div class=\"colab-df-container\">\n",
              "      <div>\n",
              "<style scoped>\n",
              "    .dataframe tbody tr th:only-of-type {\n",
              "        vertical-align: middle;\n",
              "    }\n",
              "\n",
              "    .dataframe tbody tr th {\n",
              "        vertical-align: top;\n",
              "    }\n",
              "\n",
              "    .dataframe thead th {\n",
              "        text-align: right;\n",
              "    }\n",
              "</style>\n",
              "<table border=\"1\" class=\"dataframe\">\n",
              "  <thead>\n",
              "    <tr style=\"text-align: right;\">\n",
              "      <th></th>\n",
              "      <th>date</th>\n",
              "      <th>radiation_avg</th>\n",
              "      <th>precip</th>\n",
              "      <th>wind_avg</th>\n",
              "      <th>wind_max</th>\n",
              "      <th>temp_avg</th>\n",
              "      <th>humidity_avg</th>\n",
              "    </tr>\n",
              "  </thead>\n",
              "  <tbody>\n",
              "    <tr>\n",
              "      <th>0</th>\n",
              "      <td>14/05/2014 00:00</td>\n",
              "      <td>159</td>\n",
              "      <td>0.0</td>\n",
              "      <td>1.4</td>\n",
              "      <td>3.3</td>\n",
              "      <td>14.27</td>\n",
              "      <td>64.95</td>\n",
              "    </tr>\n",
              "    <tr>\n",
              "      <th>1</th>\n",
              "      <td>15/05/2014 00:00</td>\n",
              "      <td>280</td>\n",
              "      <td>0.0</td>\n",
              "      <td>0.6</td>\n",
              "      <td>2.3</td>\n",
              "      <td>13.51</td>\n",
              "      <td>72.91</td>\n",
              "    </tr>\n",
              "    <tr>\n",
              "      <th>2</th>\n",
              "      <td>16/05/2014 00:00</td>\n",
              "      <td>186</td>\n",
              "      <td>3.4</td>\n",
              "      <td>0.8</td>\n",
              "      <td>2.7</td>\n",
              "      <td>15.65</td>\n",
              "      <td>74.69</td>\n",
              "    </tr>\n",
              "    <tr>\n",
              "      <th>3</th>\n",
              "      <td>17/05/2014 00:00</td>\n",
              "      <td>221</td>\n",
              "      <td>0.0</td>\n",
              "      <td>1.0</td>\n",
              "      <td>3.3</td>\n",
              "      <td>17.46</td>\n",
              "      <td>71.42</td>\n",
              "    </tr>\n",
              "    <tr>\n",
              "      <th>4</th>\n",
              "      <td>18/05/2014 00:00</td>\n",
              "      <td>255</td>\n",
              "      <td>0.0</td>\n",
              "      <td>2.1</td>\n",
              "      <td>5.5</td>\n",
              "      <td>16.85</td>\n",
              "      <td>74.45</td>\n",
              "    </tr>\n",
              "    <tr>\n",
              "      <th>...</th>\n",
              "      <td>...</td>\n",
              "      <td>...</td>\n",
              "      <td>...</td>\n",
              "      <td>...</td>\n",
              "      <td>...</td>\n",
              "      <td>...</td>\n",
              "      <td>...</td>\n",
              "    </tr>\n",
              "    <tr>\n",
              "      <th>2551</th>\n",
              "      <td>17/05/2021 00:00</td>\n",
              "      <td>196</td>\n",
              "      <td>1.4</td>\n",
              "      <td>2.2</td>\n",
              "      <td>5.5</td>\n",
              "      <td>10.51</td>\n",
              "      <td>99.86</td>\n",
              "    </tr>\n",
              "    <tr>\n",
              "      <th>2552</th>\n",
              "      <td>17/05/2021 00:00</td>\n",
              "      <td>173</td>\n",
              "      <td>2.8</td>\n",
              "      <td>1.8</td>\n",
              "      <td>5.5</td>\n",
              "      <td>10.80</td>\n",
              "      <td>99.86</td>\n",
              "    </tr>\n",
              "    <tr>\n",
              "      <th>2553</th>\n",
              "      <td>18/05/2021 00:00</td>\n",
              "      <td>311</td>\n",
              "      <td>0.0</td>\n",
              "      <td>1.4</td>\n",
              "      <td>5.0</td>\n",
              "      <td>10.29</td>\n",
              "      <td>92.94</td>\n",
              "    </tr>\n",
              "    <tr>\n",
              "      <th>2554</th>\n",
              "      <td>19/05/2021 00:00</td>\n",
              "      <td>232</td>\n",
              "      <td>6.6</td>\n",
              "      <td>1.8</td>\n",
              "      <td>5.5</td>\n",
              "      <td>11.39</td>\n",
              "      <td>90.32</td>\n",
              "    </tr>\n",
              "    <tr>\n",
              "      <th>2555</th>\n",
              "      <td>20/05/2021 00:00</td>\n",
              "      <td>44</td>\n",
              "      <td>0.0</td>\n",
              "      <td>0.5</td>\n",
              "      <td>2.7</td>\n",
              "      <td>6.35</td>\n",
              "      <td>99.86</td>\n",
              "    </tr>\n",
              "  </tbody>\n",
              "</table>\n",
              "<p>2556 rows × 7 columns</p>\n",
              "</div>\n",
              "      <button class=\"colab-df-convert\" onclick=\"convertToInteractive('df-ee21f8e3-0dcf-4371-ab5f-34776d61cf77')\"\n",
              "              title=\"Convert this dataframe to an interactive table.\"\n",
              "              style=\"display:none;\">\n",
              "        \n",
              "  <svg xmlns=\"http://www.w3.org/2000/svg\" height=\"24px\"viewBox=\"0 0 24 24\"\n",
              "       width=\"24px\">\n",
              "    <path d=\"M0 0h24v24H0V0z\" fill=\"none\"/>\n",
              "    <path d=\"M18.56 5.44l.94 2.06.94-2.06 2.06-.94-2.06-.94-.94-2.06-.94 2.06-2.06.94zm-11 1L8.5 8.5l.94-2.06 2.06-.94-2.06-.94L8.5 2.5l-.94 2.06-2.06.94zm10 10l.94 2.06.94-2.06 2.06-.94-2.06-.94-.94-2.06-.94 2.06-2.06.94z\"/><path d=\"M17.41 7.96l-1.37-1.37c-.4-.4-.92-.59-1.43-.59-.52 0-1.04.2-1.43.59L10.3 9.45l-7.72 7.72c-.78.78-.78 2.05 0 2.83L4 21.41c.39.39.9.59 1.41.59.51 0 1.02-.2 1.41-.59l7.78-7.78 2.81-2.81c.8-.78.8-2.07 0-2.86zM5.41 20L4 18.59l7.72-7.72 1.47 1.35L5.41 20z\"/>\n",
              "  </svg>\n",
              "      </button>\n",
              "      \n",
              "  <style>\n",
              "    .colab-df-container {\n",
              "      display:flex;\n",
              "      flex-wrap:wrap;\n",
              "      gap: 12px;\n",
              "    }\n",
              "\n",
              "    .colab-df-convert {\n",
              "      background-color: #E8F0FE;\n",
              "      border: none;\n",
              "      border-radius: 50%;\n",
              "      cursor: pointer;\n",
              "      display: none;\n",
              "      fill: #1967D2;\n",
              "      height: 32px;\n",
              "      padding: 0 0 0 0;\n",
              "      width: 32px;\n",
              "    }\n",
              "\n",
              "    .colab-df-convert:hover {\n",
              "      background-color: #E2EBFA;\n",
              "      box-shadow: 0px 1px 2px rgba(60, 64, 67, 0.3), 0px 1px 3px 1px rgba(60, 64, 67, 0.15);\n",
              "      fill: #174EA6;\n",
              "    }\n",
              "\n",
              "    [theme=dark] .colab-df-convert {\n",
              "      background-color: #3B4455;\n",
              "      fill: #D2E3FC;\n",
              "    }\n",
              "\n",
              "    [theme=dark] .colab-df-convert:hover {\n",
              "      background-color: #434B5C;\n",
              "      box-shadow: 0px 1px 3px 1px rgba(0, 0, 0, 0.15);\n",
              "      filter: drop-shadow(0px 1px 2px rgba(0, 0, 0, 0.3));\n",
              "      fill: #FFFFFF;\n",
              "    }\n",
              "  </style>\n",
              "\n",
              "      <script>\n",
              "        const buttonEl =\n",
              "          document.querySelector('#df-ee21f8e3-0dcf-4371-ab5f-34776d61cf77 button.colab-df-convert');\n",
              "        buttonEl.style.display =\n",
              "          google.colab.kernel.accessAllowed ? 'block' : 'none';\n",
              "\n",
              "        async function convertToInteractive(key) {\n",
              "          const element = document.querySelector('#df-ee21f8e3-0dcf-4371-ab5f-34776d61cf77');\n",
              "          const dataTable =\n",
              "            await google.colab.kernel.invokeFunction('convertToInteractive',\n",
              "                                                     [key], {});\n",
              "          if (!dataTable) return;\n",
              "\n",
              "          const docLinkHtml = 'Like what you see? Visit the ' +\n",
              "            '<a target=\"_blank\" href=https://colab.research.google.com/notebooks/data_table.ipynb>data table notebook</a>'\n",
              "            + ' to learn more about interactive tables.';\n",
              "          element.innerHTML = '';\n",
              "          dataTable['output_type'] = 'display_data';\n",
              "          await google.colab.output.renderOutput(dataTable, element);\n",
              "          const docLink = document.createElement('div');\n",
              "          docLink.innerHTML = docLinkHtml;\n",
              "          element.appendChild(docLink);\n",
              "        }\n",
              "      </script>\n",
              "    </div>\n",
              "  </div>\n",
              "  "
            ],
            "text/plain": [
              "                  date  radiation_avg  precip  ...  wind_max  temp_avg  humidity_avg\n",
              "0     14/05/2014 00:00            159     0.0  ...       3.3     14.27         64.95\n",
              "1     15/05/2014 00:00            280     0.0  ...       2.3     13.51         72.91\n",
              "2     16/05/2014 00:00            186     3.4  ...       2.7     15.65         74.69\n",
              "3     17/05/2014 00:00            221     0.0  ...       3.3     17.46         71.42\n",
              "4     18/05/2014 00:00            255     0.0  ...       5.5     16.85         74.45\n",
              "...                ...            ...     ...  ...       ...       ...           ...\n",
              "2551  17/05/2021 00:00            196     1.4  ...       5.5     10.51         99.86\n",
              "2552  17/05/2021 00:00            173     2.8  ...       5.5     10.80         99.86\n",
              "2553  18/05/2021 00:00            311     0.0  ...       5.0     10.29         92.94\n",
              "2554  19/05/2021 00:00            232     6.6  ...       5.5     11.39         90.32\n",
              "2555  20/05/2021 00:00             44     0.0  ...       2.7      6.35         99.86\n",
              "\n",
              "[2556 rows x 7 columns]"
            ]
          },
          "metadata": {},
          "execution_count": 3
        }
      ],
      "source": [
        "df = pd.read_csv('weather.csv')\n",
        "df.drop(['temp_max', 'temp_min'], axis=1, inplace=True)\n",
        "df"
      ]
    },
    {
      "cell_type": "code",
      "execution_count": null,
      "metadata": {
        "colab": {
          "base_uri": "https://localhost:8080/",
          "height": 279
        },
        "id": "nzsytNAh_a0N",
        "outputId": "fd5d1d32-d135-4784-ed4e-87897d4a5104"
      },
      "outputs": [
        {
          "output_type": "display_data",
          "data": {
            "image/png": "[encoded data removed]",
            "text/plain": [
              "<Figure size 432x288 with 1 Axes>"
            ]
          },
          "metadata": {
            "needs_background": "light"
          }
        }
      ],
      "source": [
        "plt.plot(range(len(df)), df['temp_avg'])\n",
        "plt.xlabel('Temporal range')\n",
        "plt.ylabel('Average temperature (C) (7 years)')\n",
        "plt.savefig('temperature_over_time.pdf', bbox_inches='tight')"
      ]
    },
    {
      "cell_type": "code",
      "execution_count": null,
      "metadata": {
        "colab": {
          "base_uri": "https://localhost:8080/",
          "height": 279
        },
        "id": "ysbM2n99_a0N",
        "outputId": "e83eb333-eb41-43a6-aed4-d467dd53a0ed"
      },
      "outputs": [
        {
          "output_type": "display_data",
          "data": {
            "image/png": "[encoded data removed]",
            "text/plain": [
              "<Figure size 432x288 with 1 Axes>"
            ]
          },
          "metadata": {
            "needs_background": "light"
          }
        }
      ],
      "source": [
        "# Look at the first 2 years\n",
        "length = 2*365\n",
        "plt.plot(range(length), df['temp_avg'][:length])\n",
        "plt.xlabel('Temporal range')\n",
        "plt.ylabel('Average temperature (C) (2 years)')\n",
        "plt.savefig('temperature_over_time_2y.pdf', bbox_inches='tight')"
      ]
    },
    {
      "cell_type": "markdown",
      "metadata": {
        "id": "ikyqi2m7_a0O"
      },
      "source": [
        "We have clear periodicity every year. In the previous plot we saw 7 cycles (7 years). Here we see 2.\n",
        "\n",
        "Always look for periodicity in your timeseries. There will always be daily and yearly cycles. Check these patterns.\n",
        "\n",
        "Another issue with timeseries is dividing the dataset into train/validation/test sets. We definitely cannot shuffle the data, and we need to be very careful with data leakage (using data from the future)."
      ]
    },
    {
      "cell_type": "markdown",
      "metadata": {
        "id": "1fxuW2ne_a0P"
      },
      "source": [
        "## Data prep\n",
        "\n",
        "We'll try to predict the average temperature of tomorrow based on data from the past.\n",
        "\n",
        "To avoid data leakage, we're going to use a simple approach: use the first 50% of data for training, the next 30% for validation, and the final 20% for testing.\n"
      ]
    },
    {
      "cell_type": "code",
      "execution_count": null,
      "metadata": {
        "colab": {
          "base_uri": "https://localhost:8080/"
        },
        "id": "vofGsYen_a0P",
        "outputId": "d9c3740f-5cc9-410c-db5b-0e5de780084f"
      },
      "outputs": [
        {
          "output_type": "stream",
          "name": "stdout",
          "text": [
            "Samples for training: 1278; validation: 766; test: 512\n"
          ]
        }
      ],
      "source": [
        "n_tr, n_val = int(0.5*len(df)), int(0.3*len(df))\n",
        "n_te = len(df) - n_tr - n_val\n",
        "print('Samples for training: %d; validation: %d; test: %d' % (n_tr, n_val, n_te))"
      ]
    },
    {
      "cell_type": "code",
      "execution_count": null,
      "metadata": {
        "colab": {
          "base_uri": "https://localhost:8080/"
        },
        "id": "lsMDT2Jq_a0P",
        "outputId": "40daccd3-273c-4909-818c-09a40b155929"
      },
      "outputs": [
        {
          "output_type": "stream",
          "name": "stdout",
          "text": [
            "(2556, 6)\n"
          ]
        }
      ],
      "source": [
        "# Get the data from the dataframe (dropping date column)\n",
        "data = df.iloc[:, 1:].values\n",
        "print(data.shape)\n",
        "assert data.shape[0] == len(df)\n",
        "assert data.shape[1] == len(df.columns)-1, \"Are you sure you're dropping the date?\"\n",
        "# We need to normalise our time series. Calculate mean and std from TRAINING DATA ONLY. \n",
        "# We'll use it on the validation and test sets.\n",
        "mean_tr = data[:n_tr, :].mean(axis=0)\n",
        "std_tr = data[:n_tr, :].std(axis=0)\n",
        "data = (data - mean_tr) / std_tr\n",
        "\n",
        "\n",
        "y = df['temp_avg'].values.reshape(-1, 1)\n",
        "\n",
        "# index of the column that contains the avg_temp\n",
        "y_idx = 4"
      ]
    },
    {
      "cell_type": "code",
      "source": [
        "data[:20, y_idx] * std_tr[y_idx] + mean_tr[y_idx]"
      ],
      "metadata": {
        "colab": {
          "base_uri": "https://localhost:8080/"
        },
        "id": "1VJAcdfICLi1",
        "outputId": "41b330ca-bfad-49b3-ccae-fb22c8411336"
      },
      "execution_count": null,
      "outputs": [
        {
          "output_type": "execute_result",
          "data": {
            "text/plain": [
              "array([14.27, 13.51, 15.65, 17.46, 16.85, 18.26, 17.35, 15.55, 14.52,\n",
              "       13.93, 11.48, 13.63, 12.81, 12.4 , 13.67, 14.15, 13.22, 12.21,\n",
              "       15.53, 14.52])"
            ]
          },
          "metadata": {},
          "execution_count": 6
        }
      ]
    },
    {
      "cell_type": "code",
      "source": [
        "y[5:25]"
      ],
      "metadata": {
        "colab": {
          "base_uri": "https://localhost:8080/"
        },
        "id": "xN-YJyEeCUv9",
        "outputId": "9cf43612-c0f3-4864-f113-a9a5531e0904"
      },
      "execution_count": null,
      "outputs": [
        {
          "output_type": "execute_result",
          "data": {
            "text/plain": [
              "array([[18.26],\n",
              "       [17.35],\n",
              "       [15.55],\n",
              "       [14.52],\n",
              "       [13.93],\n",
              "       [11.48],\n",
              "       [13.63],\n",
              "       [12.81],\n",
              "       [12.4 ],\n",
              "       [13.67],\n",
              "       [14.15],\n",
              "       [13.22],\n",
              "       [12.21],\n",
              "       [15.53],\n",
              "       [14.52],\n",
              "       [15.35],\n",
              "       [12.29],\n",
              "       [13.88],\n",
              "       [15.13],\n",
              "       [17.29]])"
            ]
          },
          "metadata": {},
          "execution_count": 7
        }
      ]
    },
    {
      "cell_type": "code",
      "execution_count": null,
      "metadata": {
        "id": "K_JGeiAs_a0Q"
      },
      "outputs": [],
      "source": [
        "# We'll use a Dataset from keras to pass our data\n",
        "sampling_rate = 1  # we keep all data points\n",
        "sequence_length = 14  # 2 weeks to predict tomorrow's temperature\n",
        "delay = sampling_rate * sequence_length  # the target is the day after the end of the sequence\n",
        "batch_size = 16"
      ]
    },
    {
      "cell_type": "code",
      "execution_count": null,
      "metadata": {
        "colab": {
          "base_uri": "https://localhost:8080/"
        },
        "id": "cRDGWNYl_a0Q",
        "outputId": "126b8150-1e10-4f4d-afd1-0666658a6796"
      },
      "outputs": [
        {
          "output_type": "stream",
          "name": "stdout",
          "text": [
            "X shape: (16, 14, 6)\n",
            "target shape: (16, 1)\n"
          ]
        }
      ],
      "source": [
        "train_dataset = keras.utils.timeseries_dataset_from_array(\n",
        "    data[:-delay],\n",
        "    targets=y[delay:],\n",
        "    sampling_rate=sampling_rate, sequence_length=sequence_length,\n",
        "    batch_size=batch_size,\n",
        "    start_index=0, end_index=n_tr  # first 50% for training\n",
        "    )\n",
        "\n",
        "val_dataset = keras.utils.timeseries_dataset_from_array(\n",
        "    data[:-delay],\n",
        "    targets=y[delay:],\n",
        "    sampling_rate=sampling_rate, sequence_length=sequence_length,\n",
        "    batch_size=batch_size,\n",
        "    start_index=n_tr, end_index=n_tr+n_val  # 50%-80% for validation\n",
        "    )\n",
        "\n",
        "test_dataset = keras.utils.timeseries_dataset_from_array(\n",
        "    data[:-delay],\n",
        "    targets=y[delay:],\n",
        "    sampling_rate=sampling_rate, sequence_length=sequence_length,\n",
        "    batch_size=batch_size,\n",
        "    start_index=n_tr+n_val  # last 20% for test\n",
        "    )\n",
        "\n",
        "for X, target in train_dataset:\n",
        "    print(\"X shape:\", X.shape)\n",
        "    print(\"target shape:\", target.shape)\n",
        "    #print(X[:, :, y_idx] * std_tr[y_idx] + mean_tr[y_idx])\n",
        "    #print(target)\n",
        "    break  # so we only print once"
      ]
    },
    {
      "cell_type": "code",
      "source": [
        "# Function to plot history with neural networks\n",
        "def plot_hist_regression(hist, y):\n",
        "  n_ = len(hist.history['mae'])\n",
        "  plt.plot(range(1, n_+1), np.asarray(hist.history['mae']), 'bo', label='MAE on training set')\n",
        "  plt.plot(range(1, n_+1), np.asarray(hist.history['val_mae']), 'b', label='MAE on validation set')\n",
        "  plt.legend()\n",
        "  plt.xlabel(\"Epoch\") \n",
        "  plt.ylabel(\"MAE (degrees)\")\n",
        "  plt.axhline(y=y)\n",
        "  plt.show()\n"
      ],
      "metadata": {
        "id": "u_v2rAW_W4kQ"
      },
      "execution_count": null,
      "outputs": []
    },
    {
      "cell_type": "markdown",
      "metadata": {
        "id": "WlhjIvZR_a0Q"
      },
      "source": [
        "## Establishing a baseline\n"
      ]
    },
    {
      "cell_type": "markdown",
      "source": [
        "### Common sense, no ML baseline\n",
        "\n",
        "- Sanity check\n",
        "- To establish whether ML methods are actually any good\n",
        "\n",
        "Tomorrow's temperature is likely to be close to today's: let's predict that the temperature 24 hours from now will be equal to the temperature right now.\n",
        "\n",
        "We'll use the MAE as metric"
      ],
      "metadata": {
        "id": "rloJamyvWPWj"
      }
    },
    {
      "cell_type": "code",
      "execution_count": null,
      "metadata": {
        "colab": {
          "base_uri": "https://localhost:8080/"
        },
        "id": "MUY5acIf_a0Q",
        "outputId": "dcdc5e72-a117-43ca-c7f5-7c31437c7444"
      },
      "outputs": [
        {
          "output_type": "stream",
          "name": "stdout",
          "text": [
            "MAE on train set = 2.56 (degrees Celsius)\n",
            "MAE on validation set = 2.69 (degrees Celsius)\n",
            "MAE on test set = 2.85 (degrees Celsius)\n"
          ]
        }
      ],
      "source": [
        "def naive_method(dataset, mean, std):\n",
        "    error = 0\n",
        "    samples = 0\n",
        "    count = 0\n",
        "    for X, target in dataset:\n",
        "        pred = X[:, -1, y_idx] * std + mean  # predict last available temperature and un-standardise\n",
        "        #print(X.shape, target.shape, pred.shape)  # [batch_size, sequence_length, n_feats]\n",
        "        #print(X[:, -1, y_idx] * std + mean, target)\n",
        "        error += np.sum(np.abs(pred - target))\n",
        "        samples += X.shape[0]  # batch_size\n",
        "        count += 1\n",
        "    return error / samples / batch_size # average\n",
        "\n",
        "\n",
        "print('MAE on train set = %.2f (degrees Celsius)' % naive_method(train_dataset, mean_tr[y_idx], std_tr[y_idx]))\n",
        "print('MAE on validation set = %.2f (degrees Celsius)' % naive_method(val_dataset, mean_tr[y_idx], std_tr[y_idx]))\n",
        "print('MAE on test set = %.2f (degrees Celsius)' % naive_method(test_dataset, mean_tr[y_idx], std_tr[y_idx]))\n",
        "# Save MAE on validation for later\n",
        "baseline = naive_method(val_dataset, mean_tr[y_idx], std_tr[y_idx])"
      ]
    },
    {
      "cell_type": "markdown",
      "source": [
        "This baseline achieves a validation MAE of 2.69 degrees and a test MAE of 2.85 degrees. So if we assume that tomorrow's temperature will be the same as today's, we'll be off by less than 3 degrees on average.\n",
        "\n",
        "Not too bad, but surely we can do better!"
      ],
      "metadata": {
        "id": "znycUtxiJmAF"
      }
    },
    {
      "cell_type": "markdown",
      "metadata": {
        "id": "7c-duA1Z_a0R"
      },
      "source": [
        "### Simple ML baseline\n",
        "\n",
        "\n"
      ]
    },
    {
      "cell_type": "code",
      "source": [
        "# To get some practice with neural networks, we'll try a 1-layer NN with nothing fancy.\n",
        "\n",
        "model_dense = models.Sequential()\n",
        "model_dense.add(layers.Flatten(input_shape=(sequence_length, len(df.columns)-1)))  # we need to specify the input shape or we won't be able to see the summary\n",
        "model_dense.add(layers.Dense(10, activation='relu'))\n",
        "model_dense.add(layers.Dense(1))\n",
        "\n",
        "model_dense.summary()"
      ],
      "metadata": {
        "colab": {
          "base_uri": "https://localhost:8080/"
        },
        "id": "fWGqpICHJlRe",
        "outputId": "23ab2130-e029-42ac-95ae-a1174fb801d5"
      },
      "execution_count": null,
      "outputs": [
        {
          "output_type": "stream",
          "name": "stdout",
          "text": [
            "Model: \"sequential_5\"\n",
            "_________________________________________________________________\n",
            " Layer (type)                Output Shape              Param #   \n",
            "=================================================================\n",
            " flatten_5 (Flatten)         (None, 84)                0         \n",
            "                                                                 \n",
            " dense_10 (Dense)            (None, 10)                850       \n",
            "                                                                 \n",
            " dense_11 (Dense)            (None, 1)                 11        \n",
            "                                                                 \n",
            "=================================================================\n",
            "Total params: 861\n",
            "Trainable params: 861\n",
            "Non-trainable params: 0\n",
            "_________________________________________________________________\n"
          ]
        }
      ]
    },
    {
      "cell_type": "code",
      "source": [
        "n_epochs = 20\n",
        "\n",
        "model_dense.compile(optimizer='rmsprop', loss='mse', metrics=['mae'])\n",
        "history_dense = model_dense.fit(train_dataset, epochs=n_epochs, validation_data=val_dataset)"
      ],
      "metadata": {
        "colab": {
          "base_uri": "https://localhost:8080/"
        },
        "id": "p0Hz1rX8LMfT",
        "outputId": "e9674789-48af-4682-f7fa-aec2fc10cb4a"
      },
      "execution_count": null,
      "outputs": [
        {
          "output_type": "stream",
          "name": "stdout",
          "text": [
            "Epoch 1/20\n",
            "80/80 [==============================] - 1s 10ms/step - loss: 127.5468 - mae: 10.0955 - val_loss: 115.0652 - val_mae: 9.4390\n",
            "Epoch 2/20\n",
            "80/80 [==============================] - 1s 7ms/step - loss: 98.5391 - mae: 8.8579 - val_loss: 84.8307 - val_mae: 8.0827\n",
            "Epoch 3/20\n",
            "80/80 [==============================] - 1s 7ms/step - loss: 68.1611 - mae: 7.2985 - val_loss: 57.0913 - val_mae: 6.4860\n",
            "Epoch 4/20\n",
            "80/80 [==============================] - 1s 9ms/step - loss: 45.3140 - mae: 5.7720 - val_loss: 39.8028 - val_mae: 5.1982\n",
            "Epoch 5/20\n",
            "80/80 [==============================] - 1s 9ms/step - loss: 34.8218 - mae: 4.8813 - val_loss: 32.7500 - val_mae: 4.6613\n",
            "Epoch 6/20\n",
            "80/80 [==============================] - 1s 7ms/step - loss: 31.0596 - mae: 4.5753 - val_loss: 29.9952 - val_mae: 4.4468\n",
            "Epoch 7/20\n",
            "80/80 [==============================] - 1s 7ms/step - loss: 28.7077 - mae: 4.3854 - val_loss: 28.1439 - val_mae: 4.3001\n",
            "Epoch 8/20\n",
            "80/80 [==============================] - 1s 9ms/step - loss: 26.6649 - mae: 4.2216 - val_loss: 26.5627 - val_mae: 4.1683\n",
            "Epoch 9/20\n",
            "80/80 [==============================] - 1s 9ms/step - loss: 24.8171 - mae: 4.0702 - val_loss: 25.0654 - val_mae: 4.0460\n",
            "Epoch 10/20\n",
            "80/80 [==============================] - 1s 7ms/step - loss: 23.1254 - mae: 3.9307 - val_loss: 23.6051 - val_mae: 3.9244\n",
            "Epoch 11/20\n",
            "80/80 [==============================] - 1s 7ms/step - loss: 21.5592 - mae: 3.7980 - val_loss: 22.1806 - val_mae: 3.8006\n",
            "Epoch 12/20\n",
            "80/80 [==============================] - 1s 7ms/step - loss: 20.0940 - mae: 3.6675 - val_loss: 20.7684 - val_mae: 3.6744\n",
            "Epoch 13/20\n",
            "80/80 [==============================] - 1s 7ms/step - loss: 18.6924 - mae: 3.5359 - val_loss: 19.4440 - val_mae: 3.5521\n",
            "Epoch 14/20\n",
            "80/80 [==============================] - 1s 7ms/step - loss: 17.3775 - mae: 3.4058 - val_loss: 18.1924 - val_mae: 3.4357\n",
            "Epoch 15/20\n",
            "80/80 [==============================] - 1s 7ms/step - loss: 16.1900 - mae: 3.2853 - val_loss: 17.0786 - val_mae: 3.3283\n",
            "Epoch 16/20\n",
            "80/80 [==============================] - 1s 7ms/step - loss: 15.1342 - mae: 3.1723 - val_loss: 16.0859 - val_mae: 3.2292\n",
            "Epoch 17/20\n",
            "80/80 [==============================] - 1s 9ms/step - loss: 14.2215 - mae: 3.0694 - val_loss: 15.2312 - val_mae: 3.1384\n",
            "Epoch 18/20\n",
            "80/80 [==============================] - 1s 7ms/step - loss: 13.4407 - mae: 2.9777 - val_loss: 14.5092 - val_mae: 3.0576\n",
            "Epoch 19/20\n",
            "80/80 [==============================] - 1s 8ms/step - loss: 12.7742 - mae: 2.8952 - val_loss: 13.9026 - val_mae: 2.9919\n",
            "Epoch 20/20\n",
            "80/80 [==============================] - 1s 10ms/step - loss: 12.1861 - mae: 2.8230 - val_loss: 13.4160 - val_mae: 2.9376\n"
          ]
        }
      ]
    },
    {
      "cell_type": "code",
      "source": [
        "# Plot MAE cures for validation and training\n",
        "plot_hist_regression(history_dense, baseline)"
      ],
      "metadata": {
        "colab": {
          "base_uri": "https://localhost:8080/",
          "height": 283
        },
        "id": "aBRYn-AKMCi4",
        "outputId": "7c1891b1-da33-4052-e71b-e0876c7bdbca"
      },
      "execution_count": null,
      "outputs": [
        {
          "output_type": "display_data",
          "data": {
            "image/png": "[encoded data removed]",
            "text/plain": [
              "<Figure size 432x288 with 1 Axes>"
            ]
          },
          "metadata": {
            "needs_background": "light"
          }
        }
      ]
    },
    {
      "cell_type": "markdown",
      "source": [
        "Validation loss is worse than what we had with our common-sense baseline, and we're already overfitting (MAE on training set is lower than on validation set). It turns out our previous baseline is not as easy to outperform as we thought!\n",
        "\n",
        "Remember our 'hypothesis space'? Using 2 Dense layers doesn't seem to be very useful in this case. We need other types of layers for this problem."
      ],
      "metadata": {
        "id": "1EJywOA5NJa9"
      }
    },
    {
      "cell_type": "code",
      "source": [
        "# We know that CNNs take advantage of neighbouring values, so why don't we try that?\n",
        "\n",
        "# In addition to the Conv2D layers we saw last week, there are Conv1D and Conv3D layers. \n",
        "# Conv1D layers rely on 1D windows that slide across an input sequence (imagine a 1D image)\n",
        "\n",
        "model_cnn = models.Sequential()\n",
        "model_cnn.add(layers.Conv1D(8, 7, activation='relu', input_shape=(sequence_length, len(df.columns)-1)))\n",
        "model_cnn.add(layers.MaxPooling1D(2))\n",
        "model_cnn.add(layers.Conv1D(8, 3, activation='relu'))\n",
        "model_cnn.add(layers.MaxPooling1D(2))\n",
        "model_cnn.add(layers.GlobalAveragePooling1D())\n",
        "model_cnn.add(layers.Dense(1))\n",
        "\n",
        "model_cnn.summary()"
      ],
      "metadata": {
        "colab": {
          "base_uri": "https://localhost:8080/"
        },
        "id": "k6PADykQPIjq",
        "outputId": "0c3d48b1-f910-4648-d08e-e6147fc3b5b6"
      },
      "execution_count": null,
      "outputs": [
        {
          "output_type": "stream",
          "name": "stdout",
          "text": [
            "Model: \"sequential_6\"\n",
            "_________________________________________________________________\n",
            " Layer (type)                Output Shape              Param #   \n",
            "=================================================================\n",
            " conv1d (Conv1D)             (None, 8, 8)              344       \n",
            "                                                                 \n",
            " max_pooling1d (MaxPooling1D  (None, 4, 8)             0         \n",
            " )                                                               \n",
            "                                                                 \n",
            " conv1d_1 (Conv1D)           (None, 2, 8)              200       \n",
            "                                                                 \n",
            " max_pooling1d_1 (MaxPooling  (None, 1, 8)             0         \n",
            " 1D)                                                             \n",
            "                                                                 \n",
            " global_average_pooling1d (G  (None, 8)                0         \n",
            " lobalAveragePooling1D)                                          \n",
            "                                                                 \n",
            " dense_12 (Dense)            (None, 1)                 9         \n",
            "                                                                 \n",
            "=================================================================\n",
            "Total params: 553\n",
            "Trainable params: 553\n",
            "Non-trainable params: 0\n",
            "_________________________________________________________________\n"
          ]
        }
      ]
    },
    {
      "cell_type": "code",
      "source": [
        "model_cnn.compile(optimizer='rmsprop', loss='mse', metrics=['mae'])\n",
        "history_cnn = model_cnn.fit(train_dataset, epochs=n_epochs,\n",
        "                            validation_data=val_dataset)"
      ],
      "metadata": {
        "colab": {
          "base_uri": "https://localhost:8080/"
        },
        "id": "PSGRJSulQs22",
        "outputId": "44faf343-33d6-44d4-8d70-2ae98c010db0"
      },
      "execution_count": null,
      "outputs": [
        {
          "output_type": "stream",
          "name": "stdout",
          "text": [
            "Epoch 1/20\n",
            "80/80 [==============================] - 2s 12ms/step - loss: 123.6015 - mae: 9.9384 - val_loss: 97.7559 - val_mae: 8.6416\n",
            "Epoch 2/20\n",
            "80/80 [==============================] - 1s 8ms/step - loss: 73.5138 - mae: 7.6088 - val_loss: 43.9210 - val_mae: 5.7780\n",
            "Epoch 3/20\n",
            "80/80 [==============================] - 1s 8ms/step - loss: 28.7356 - mae: 4.5387 - val_loss: 18.7560 - val_mae: 3.4863\n",
            "Epoch 4/20\n",
            "80/80 [==============================] - 1s 10ms/step - loss: 16.7691 - mae: 3.3111 - val_loss: 15.2227 - val_mae: 3.0564\n",
            "Epoch 5/20\n",
            "80/80 [==============================] - 1s 10ms/step - loss: 14.0399 - mae: 3.0181 - val_loss: 15.3956 - val_mae: 3.0339\n",
            "Epoch 6/20\n",
            "80/80 [==============================] - 1s 8ms/step - loss: 12.9859 - mae: 2.9013 - val_loss: 15.5723 - val_mae: 3.0244\n",
            "Epoch 7/20\n",
            "80/80 [==============================] - 1s 8ms/step - loss: 12.2762 - mae: 2.8243 - val_loss: 15.5969 - val_mae: 3.0087\n",
            "Epoch 8/20\n",
            "80/80 [==============================] - 1s 10ms/step - loss: 11.7384 - mae: 2.7638 - val_loss: 15.5161 - val_mae: 2.9917\n",
            "Epoch 9/20\n",
            "80/80 [==============================] - 1s 8ms/step - loss: 11.3228 - mae: 2.7143 - val_loss: 15.3784 - val_mae: 2.9734\n",
            "Epoch 10/20\n",
            "80/80 [==============================] - 1s 10ms/step - loss: 10.9763 - mae: 2.6737 - val_loss: 15.2429 - val_mae: 2.9562\n",
            "Epoch 11/20\n",
            "80/80 [==============================] - 1s 10ms/step - loss: 10.6649 - mae: 2.6358 - val_loss: 15.0570 - val_mae: 2.9386\n",
            "Epoch 12/20\n",
            "80/80 [==============================] - 1s 10ms/step - loss: 10.3941 - mae: 2.6030 - val_loss: 14.8626 - val_mae: 2.9208\n",
            "Epoch 13/20\n",
            "80/80 [==============================] - 1s 9ms/step - loss: 10.1610 - mae: 2.5740 - val_loss: 14.6092 - val_mae: 2.9002\n",
            "Epoch 14/20\n",
            "80/80 [==============================] - 1s 8ms/step - loss: 9.9511 - mae: 2.5467 - val_loss: 14.3706 - val_mae: 2.8799\n",
            "Epoch 15/20\n",
            "80/80 [==============================] - 1s 8ms/step - loss: 9.7532 - mae: 2.5207 - val_loss: 14.1001 - val_mae: 2.8584\n",
            "Epoch 16/20\n",
            "80/80 [==============================] - 1s 9ms/step - loss: 9.5700 - mae: 2.4966 - val_loss: 13.8543 - val_mae: 2.8377\n",
            "Epoch 17/20\n",
            "80/80 [==============================] - 1s 8ms/step - loss: 9.3969 - mae: 2.4737 - val_loss: 13.6621 - val_mae: 2.8190\n",
            "Epoch 18/20\n",
            "80/80 [==============================] - 1s 8ms/step - loss: 9.2246 - mae: 2.4504 - val_loss: 13.5029 - val_mae: 2.8031\n",
            "Epoch 19/20\n",
            "80/80 [==============================] - 1s 10ms/step - loss: 9.0663 - mae: 2.4288 - val_loss: 13.3396 - val_mae: 2.7870\n",
            "Epoch 20/20\n",
            "80/80 [==============================] - 1s 16ms/step - loss: 8.9145 - mae: 2.4085 - val_loss: 13.1962 - val_mae: 2.7721\n"
          ]
        }
      ]
    },
    {
      "cell_type": "code",
      "source": [
        "# Plot MAE cures for validation and training\n",
        "plot_hist_regression(history_cnn, baseline)"
      ],
      "metadata": {
        "colab": {
          "base_uri": "https://localhost:8080/",
          "height": 279
        },
        "id": "6bB6lzLYSG-u",
        "outputId": "8062cd61-ad7a-45a8-c123-048505f8985e"
      },
      "execution_count": null,
      "outputs": [
        {
          "output_type": "display_data",
          "data": {
            "image/png": "[encoded data removed]",
            "text/plain": [
              "<Figure size 432x288 with 1 Axes>"
            ]
          },
          "metadata": {
            "needs_background": "light"
          }
        }
      ]
    },
    {
      "cell_type": "markdown",
      "source": [
        "This model isn't any better, with a validation MAE of 2.77 degrees (also worse than the 'common-sense approach' that we tried at first), and we're overfitting a bit too.\n",
        "\n",
        "Why?\n",
        "\n",
        "In timeseries, order matters a lot: the recent past is more informative than data from 5 days ago, and convolutional layers don't take advantage of this fact -- max pooling and global average pooling layers actually destroy this order information."
      ],
      "metadata": {
        "id": "Kc2iMPSHViL1"
      }
    },
    {
      "cell_type": "markdown",
      "metadata": {
        "id": "3ozUAZX__a0R"
      },
      "source": [
        "## Long Short Term Memory (LSTM) Neural Networks\n",
        "\n",
        "\n"
      ]
    },
    {
      "cell_type": "code",
      "execution_count": null,
      "metadata": {
        "id": "2dWfiaUw_a0R",
        "colab": {
          "base_uri": "https://localhost:8080/"
        },
        "outputId": "dd802c62-1be0-45b4-8d14-1f2a606b0d55"
      },
      "outputs": [
        {
          "output_type": "stream",
          "name": "stdout",
          "text": [
            "Model: \"sequential\"\n",
            "_________________________________________________________________\n",
            " Layer (type)                Output Shape              Param #   \n",
            "=================================================================\n",
            " lstm (LSTM)                 (None, 20)                2160      \n",
            "                                                                 \n",
            " dense (Dense)               (None, 1)                 21        \n",
            "                                                                 \n",
            "=================================================================\n",
            "Total params: 2,181\n",
            "Trainable params: 2,181\n",
            "Non-trainable params: 0\n",
            "_________________________________________________________________\n"
          ]
        }
      ],
      "source": [
        "# 1-layer LSTM\n",
        "\n",
        "model_lstm1 = models.Sequential()\n",
        "model_lstm1.add(layers.LSTM(20, input_shape=(sequence_length, len(df.columns)-1)))\n",
        "model_lstm1.add(layers.Dense(1))\n",
        "\n",
        "model_lstm1.summary()"
      ]
    },
    {
      "cell_type": "code",
      "source": [
        "n_epochs = 20"
      ],
      "metadata": {
        "id": "DMst2Mp0R0Xi"
      },
      "execution_count": null,
      "outputs": []
    },
    {
      "cell_type": "code",
      "source": [
        "model_lstm1.compile(optimizer='rmsprop', loss='mse', metrics=['mae'])\n",
        "history_lstm1 = model_lstm1.fit(train_dataset, epochs=n_epochs,\n",
        "                            validation_data=val_dataset)"
      ],
      "metadata": {
        "colab": {
          "base_uri": "https://localhost:8080/"
        },
        "id": "Pff2tZQHXb-z",
        "outputId": "7a1028ea-cda1-4359-dfa8-a986de309d50"
      },
      "execution_count": null,
      "outputs": [
        {
          "output_type": "stream",
          "name": "stdout",
          "text": [
            "Epoch 1/20\n",
            "80/80 [==============================] - 4s 17ms/step - loss: 138.1562 - mae: 10.6386 - val_loss: 116.0077 - val_mae: 9.6319\n",
            "Epoch 2/20\n",
            "80/80 [==============================] - 1s 10ms/step - loss: 88.5155 - mae: 8.2811 - val_loss: 60.0291 - val_mae: 6.3774\n",
            "Epoch 3/20\n",
            "80/80 [==============================] - 1s 12ms/step - loss: 48.4175 - mae: 5.7813 - val_loss: 39.1723 - val_mae: 4.9200\n",
            "Epoch 4/20\n",
            "80/80 [==============================] - 1s 12ms/step - loss: 34.1900 - mae: 4.7955 - val_loss: 30.4172 - val_mae: 4.3406\n",
            "Epoch 5/20\n",
            "80/80 [==============================] - 1s 12ms/step - loss: 26.4123 - mae: 4.1754 - val_loss: 24.6702 - val_mae: 3.9199\n",
            "Epoch 6/20\n",
            "80/80 [==============================] - 1s 12ms/step - loss: 21.2520 - mae: 3.7374 - val_loss: 20.5155 - val_mae: 3.5844\n",
            "Epoch 7/20\n",
            "80/80 [==============================] - 1s 10ms/step - loss: 17.1238 - mae: 3.3462 - val_loss: 17.2718 - val_mae: 3.2856\n",
            "Epoch 8/20\n",
            "80/80 [==============================] - 1s 10ms/step - loss: 14.1125 - mae: 3.0222 - val_loss: 14.8630 - val_mae: 3.0603\n",
            "Epoch 9/20\n",
            "80/80 [==============================] - 1s 10ms/step - loss: 11.7001 - mae: 2.7400 - val_loss: 13.0046 - val_mae: 2.8791\n",
            "Epoch 10/20\n",
            "80/80 [==============================] - 1s 10ms/step - loss: 10.0517 - mae: 2.5276 - val_loss: 11.5667 - val_mae: 2.7230\n",
            "Epoch 11/20\n",
            "80/80 [==============================] - 1s 12ms/step - loss: 8.7826 - mae: 2.3545 - val_loss: 10.4771 - val_mae: 2.5946\n",
            "Epoch 12/20\n",
            "80/80 [==============================] - 1s 11ms/step - loss: 8.0339 - mae: 2.2463 - val_loss: 9.6268 - val_mae: 2.4922\n",
            "Epoch 13/20\n",
            "80/80 [==============================] - 1s 10ms/step - loss: 7.3721 - mae: 2.1555 - val_loss: 8.9998 - val_mae: 2.4139\n",
            "Epoch 14/20\n",
            "80/80 [==============================] - 1s 12ms/step - loss: 7.0150 - mae: 2.1020 - val_loss: 8.5252 - val_mae: 2.3573\n",
            "Epoch 15/20\n",
            "80/80 [==============================] - 1s 10ms/step - loss: 6.6544 - mae: 2.0531 - val_loss: 8.1471 - val_mae: 2.3080\n",
            "Epoch 16/20\n",
            "80/80 [==============================] - 1s 12ms/step - loss: 6.4467 - mae: 2.0178 - val_loss: 7.8420 - val_mae: 2.2658\n",
            "Epoch 17/20\n",
            "80/80 [==============================] - 1s 12ms/step - loss: 6.2021 - mae: 1.9822 - val_loss: 7.5686 - val_mae: 2.2258\n",
            "Epoch 18/20\n",
            "80/80 [==============================] - 1s 12ms/step - loss: 6.0542 - mae: 1.9561 - val_loss: 7.3345 - val_mae: 2.1901\n",
            "Epoch 19/20\n",
            "80/80 [==============================] - 1s 10ms/step - loss: 5.8569 - mae: 1.9276 - val_loss: 7.1105 - val_mae: 2.1540\n",
            "Epoch 20/20\n",
            "80/80 [==============================] - 1s 10ms/step - loss: 5.7368 - mae: 1.9060 - val_loss: 6.9162 - val_mae: 2.1218\n"
          ]
        }
      ]
    },
    {
      "cell_type": "code",
      "source": [
        "# Plot MAE cures for validation and training\n",
        "plot_hist_regression(history_lstm1, baseline)\n"
      ],
      "metadata": {
        "colab": {
          "base_uri": "https://localhost:8080/",
          "height": 279
        },
        "id": "hr-bgDUvXmvS",
        "outputId": "9462df20-d32e-45db-ed9d-af5786c6ebdd"
      },
      "execution_count": null,
      "outputs": [
        {
          "output_type": "display_data",
          "data": {
            "image/png": "[encoded data removed]",
            "text/plain": [
              "<Figure size 432x288 with 1 Axes>"
            ]
          },
          "metadata": {
            "needs_background": "light"
          }
        }
      ]
    },
    {
      "cell_type": "code",
      "source": [
        "print('Test MAE = %.2f degrees' % model_lstm1.evaluate(test_dataset)[1])"
      ],
      "metadata": {
        "colab": {
          "base_uri": "https://localhost:8080/"
        },
        "id": "0fFZvXXUcQ67",
        "outputId": "8ac06bad-6b70-4bb6-e4f2-964253e5fa03"
      },
      "execution_count": null,
      "outputs": [
        {
          "output_type": "stream",
          "name": "stdout",
          "text": [
            "31/31 [==============================] - 0s 4ms/step - loss: 8.3563 - mae: 2.2750\n",
            "Test MAE = 2.27 degrees\n"
          ]
        }
      ]
    },
    {
      "cell_type": "markdown",
      "source": [
        "Success! We finally beat the common-sense baseline! The validation MAE now is 2.12 degrees, and the test MAE is 2.27.\n",
        "\n",
        "Why do LSTM layers work? Let's go back to the slides"
      ],
      "metadata": {
        "id": "bYSWwI1aXvwL"
      }
    },
    {
      "cell_type": "code",
      "source": [
        "# Adding dropout\n",
        "\n",
        "model_lstm2 = models.Sequential()\n",
        "model_lstm2.add(layers.LSTM(20, input_shape=(sequence_length, len(df.columns)-1), recurrent_dropout=0.25))\n",
        "model_lstm2.add(layers.Dropout(0.4))\n",
        "model_lstm2.add(layers.Dense(1))\n",
        "\n",
        "model_lstm2.summary()"
      ],
      "metadata": {
        "id": "acSYakeOcokB",
        "colab": {
          "base_uri": "https://localhost:8080/"
        },
        "outputId": "2fb126f8-5e20-4748-884a-0ca6b8670f03"
      },
      "execution_count": null,
      "outputs": [
        {
          "output_type": "stream",
          "name": "stdout",
          "text": [
            "Model: \"sequential_2\"\n",
            "_________________________________________________________________\n",
            " Layer (type)                Output Shape              Param #   \n",
            "=================================================================\n",
            " lstm_2 (LSTM)               (None, 20)                2160      \n",
            "                                                                 \n",
            " dropout_1 (Dropout)         (None, 20)                0         \n",
            "                                                                 \n",
            " dense_2 (Dense)             (None, 1)                 21        \n",
            "                                                                 \n",
            "=================================================================\n",
            "Total params: 2,181\n",
            "Trainable params: 2,181\n",
            "Non-trainable params: 0\n",
            "_________________________________________________________________\n"
          ]
        }
      ]
    },
    {
      "cell_type": "code",
      "source": [
        "model_lstm2.compile(optimizer='rmsprop', loss='mse', metrics=['mae'])\n",
        "history_lstm2 = model_lstm2.fit(train_dataset, epochs=n_epochs,\n",
        "                            validation_data=val_dataset)"
      ],
      "metadata": {
        "colab": {
          "base_uri": "https://localhost:8080/"
        },
        "id": "LvRnf9TWSWf9",
        "outputId": "af247ccc-7255-4ca4-b8db-192913fc835a"
      },
      "execution_count": null,
      "outputs": [
        {
          "output_type": "stream",
          "name": "stdout",
          "text": [
            "Epoch 1/20\n",
            "80/80 [==============================] - 3s 18ms/step - loss: 138.5750 - mae: 10.6003 - val_loss: 116.4282 - val_mae: 9.5156\n",
            "Epoch 2/20\n",
            "80/80 [==============================] - 1s 16ms/step - loss: 87.1182 - mae: 8.0832 - val_loss: 57.7732 - val_mae: 6.1487\n",
            "Epoch 3/20\n",
            "80/80 [==============================] - 1s 14ms/step - loss: 50.9930 - mae: 5.8656 - val_loss: 39.9484 - val_mae: 4.9708\n",
            "Epoch 4/20\n",
            "80/80 [==============================] - 1s 15ms/step - loss: 37.3812 - mae: 4.9795 - val_loss: 31.7843 - val_mae: 4.4614\n",
            "Epoch 5/20\n",
            "80/80 [==============================] - 1s 16ms/step - loss: 29.8080 - mae: 4.4247 - val_loss: 26.6575 - val_mae: 4.1093\n",
            "Epoch 6/20\n",
            "80/80 [==============================] - 1s 16ms/step - loss: 25.5734 - mae: 4.0694 - val_loss: 21.7978 - val_mae: 3.7080\n",
            "Epoch 7/20\n",
            "80/80 [==============================] - 1s 14ms/step - loss: 22.4083 - mae: 3.7817 - val_loss: 18.7593 - val_mae: 3.4376\n",
            "Epoch 8/20\n",
            "80/80 [==============================] - 1s 15ms/step - loss: 19.6095 - mae: 3.5457 - val_loss: 16.2683 - val_mae: 3.2026\n",
            "Epoch 9/20\n",
            "80/80 [==============================] - 1s 15ms/step - loss: 16.7294 - mae: 3.2812 - val_loss: 14.2477 - val_mae: 2.9893\n",
            "Epoch 10/20\n",
            "80/80 [==============================] - 1s 15ms/step - loss: 16.0554 - mae: 3.1744 - val_loss: 13.2279 - val_mae: 2.9020\n",
            "Epoch 11/20\n",
            "80/80 [==============================] - 1s 15ms/step - loss: 14.4611 - mae: 3.0090 - val_loss: 11.4513 - val_mae: 2.6889\n",
            "Epoch 12/20\n",
            "80/80 [==============================] - 1s 14ms/step - loss: 13.2530 - mae: 2.8771 - val_loss: 10.6484 - val_mae: 2.6025\n",
            "Epoch 13/20\n",
            "80/80 [==============================] - 1s 16ms/step - loss: 13.1759 - mae: 2.8342 - val_loss: 9.8692 - val_mae: 2.5061\n",
            "Epoch 14/20\n",
            "80/80 [==============================] - 1s 15ms/step - loss: 12.3307 - mae: 2.7601 - val_loss: 9.1177 - val_mae: 2.4032\n",
            "Epoch 15/20\n",
            "80/80 [==============================] - 1s 14ms/step - loss: 11.9769 - mae: 2.7556 - val_loss: 8.6064 - val_mae: 2.3371\n",
            "Epoch 16/20\n",
            "80/80 [==============================] - 1s 16ms/step - loss: 12.2575 - mae: 2.7882 - val_loss: 8.2148 - val_mae: 2.2878\n",
            "Epoch 17/20\n",
            "80/80 [==============================] - 1s 16ms/step - loss: 10.9234 - mae: 2.6202 - val_loss: 7.9026 - val_mae: 2.2498\n",
            "Epoch 18/20\n",
            "80/80 [==============================] - 2s 21ms/step - loss: 11.2561 - mae: 2.6713 - val_loss: 7.5754 - val_mae: 2.2026\n",
            "Epoch 19/20\n",
            "80/80 [==============================] - 1s 17ms/step - loss: 11.5029 - mae: 2.7355 - val_loss: 7.3494 - val_mae: 2.1742\n",
            "Epoch 20/20\n",
            "80/80 [==============================] - 1s 16ms/step - loss: 10.4677 - mae: 2.5544 - val_loss: 7.2214 - val_mae: 2.1606\n"
          ]
        }
      ]
    },
    {
      "cell_type": "code",
      "source": [
        "# Plot MAE cures for validation and training\n",
        "plot_hist_regression(history_lstm2, baseline)"
      ],
      "metadata": {
        "colab": {
          "base_uri": "https://localhost:8080/",
          "height": 279
        },
        "id": "cWpm-j9iSck1",
        "outputId": "cf66d132-b95f-456c-d6a4-86c9d28a5aef"
      },
      "execution_count": null,
      "outputs": [
        {
          "output_type": "display_data",
          "data": {
            "image/png": "[encoded data removed]",
            "text/plain": [
              "<Figure size 432x288 with 1 Axes>"
            ]
          },
          "metadata": {
            "needs_background": "light"
          }
        }
      ]
    },
    {
      "cell_type": "code",
      "source": [
        "print('Test MAE = %.2f degrees' % model_lstm2.evaluate(test_dataset)[1])"
      ],
      "metadata": {
        "colab": {
          "base_uri": "https://localhost:8080/"
        },
        "id": "rAIQrQDVSmSM",
        "outputId": "8008e969-28d8-48e4-a402-720ada6f59a8"
      },
      "execution_count": null,
      "outputs": [
        {
          "output_type": "stream",
          "name": "stdout",
          "text": [
            "31/31 [==============================] - 0s 5ms/step - loss: 7.7045 - mae: 2.1570\n",
            "Test MAE = 2.16 degrees\n"
          ]
        }
      ]
    },
    {
      "cell_type": "markdown",
      "source": [
        "Note that validation set MAE is now lower than MAE on training set -- no longer overfitting. Validation MAE is 2.16 and test MAE is also 2.16.\n",
        "\n",
        "NOTE: This is a very simple dataset with very small differences in performance between different models.  You'll just have to take my word for it that *in general* this approach works. "
      ],
      "metadata": {
        "id": "H3OrpvE3S4gM"
      }
    },
    {
      "cell_type": "code",
      "source": [
        "# Performance in the previous figure can (maybe) still be improved\n",
        "# Let's try to add some more layers -- we can do this now that we're no longer overfitting\n",
        "\n",
        "model_lstm3 = models.Sequential()\n",
        "model_lstm3.add(layers.LSTM(20, input_shape=(sequence_length, len(df.columns)-1), recurrent_dropout=0.25, return_sequences=True))  # NEW!\n",
        "model_lstm3.add(layers.LSTM(20, input_shape=(sequence_length, len(df.columns)-1), recurrent_dropout=0.25))  # NEW!!\n",
        "model_lstm3.add(layers.Dropout(0.4))\n",
        "model_lstm3.add(layers.Dense(1))\n",
        "model_lstm3.summary()"
      ],
      "metadata": {
        "colab": {
          "base_uri": "https://localhost:8080/"
        },
        "id": "jq_ZDTttTX6_",
        "outputId": "3178ee55-e729-4191-b765-4e81bec2a291"
      },
      "execution_count": null,
      "outputs": [
        {
          "output_type": "stream",
          "name": "stdout",
          "text": [
            "Model: \"sequential_10\"\n",
            "_________________________________________________________________\n",
            " Layer (type)                Output Shape              Param #   \n",
            "=================================================================\n",
            " lstm_11 (LSTM)              (None, 14, 20)            2160      \n",
            "                                                                 \n",
            " lstm_12 (LSTM)              (None, 20)                3280      \n",
            "                                                                 \n",
            " dropout_8 (Dropout)         (None, 20)                0         \n",
            "                                                                 \n",
            " dense_9 (Dense)             (None, 1)                 21        \n",
            "                                                                 \n",
            "=================================================================\n",
            "Total params: 5,461\n",
            "Trainable params: 5,461\n",
            "Non-trainable params: 0\n",
            "_________________________________________________________________\n"
          ]
        }
      ]
    },
    {
      "cell_type": "code",
      "source": [
        "model_lstm3.compile(optimizer='rmsprop', loss='mse', metrics=['mae'])\n",
        "\n",
        "callbacks = [EarlyStopping(monitor='val_mae', patience=2)]\n",
        "\n",
        "history_lstm3 = model_lstm3.fit(train_dataset, epochs=60,  # increased number of epochs\n",
        "                            validation_data=val_dataset,\n",
        "                            callbacks=callbacks)  # but added early stopping callback\n"
      ],
      "metadata": {
        "colab": {
          "base_uri": "https://localhost:8080/"
        },
        "id": "9xQXChtNUxzh",
        "outputId": "47adf7db-d1ea-4cbe-f2b2-2ea09bbbb96f"
      },
      "execution_count": null,
      "outputs": [
        {
          "output_type": "stream",
          "name": "stdout",
          "text": [
            "Epoch 1/60\n",
            "80/80 [==============================] - 6s 27ms/step - loss: 109.0518 - mae: 9.2987 - val_loss: 66.4867 - val_mae: 6.7364\n",
            "Epoch 2/60\n",
            "80/80 [==============================] - 2s 23ms/step - loss: 53.7988 - mae: 6.0832 - val_loss: 42.3044 - val_mae: 5.1314\n",
            "Epoch 3/60\n",
            "80/80 [==============================] - 2s 22ms/step - loss: 40.2471 - mae: 5.1760 - val_loss: 34.6039 - val_mae: 4.7008\n",
            "Epoch 4/60\n",
            "80/80 [==============================] - 2s 24ms/step - loss: 32.2250 - mae: 4.5806 - val_loss: 28.6730 - val_mae: 4.2915\n",
            "Epoch 5/60\n",
            "80/80 [==============================] - 2s 22ms/step - loss: 26.5038 - mae: 4.1192 - val_loss: 23.9590 - val_mae: 3.9212\n",
            "Epoch 6/60\n",
            "80/80 [==============================] - 2s 23ms/step - loss: 23.2326 - mae: 3.8373 - val_loss: 20.1935 - val_mae: 3.5802\n",
            "Epoch 7/60\n",
            "80/80 [==============================] - 2s 23ms/step - loss: 19.7863 - mae: 3.5149 - val_loss: 18.2187 - val_mae: 3.4275\n",
            "Epoch 8/60\n",
            "80/80 [==============================] - 2s 24ms/step - loss: 17.7557 - mae: 3.3778 - val_loss: 17.4549 - val_mae: 3.3844\n",
            "Epoch 9/60\n",
            "80/80 [==============================] - 2s 23ms/step - loss: 17.2453 - mae: 3.2761 - val_loss: 14.6998 - val_mae: 3.0649\n",
            "Epoch 10/60\n",
            "80/80 [==============================] - 2s 23ms/step - loss: 14.8946 - mae: 3.0780 - val_loss: 12.8908 - val_mae: 2.8552\n",
            "Epoch 11/60\n",
            "80/80 [==============================] - 2s 23ms/step - loss: 14.3409 - mae: 3.0103 - val_loss: 12.2493 - val_mae: 2.8082\n",
            "Epoch 12/60\n",
            "80/80 [==============================] - 2s 23ms/step - loss: 13.2031 - mae: 2.8600 - val_loss: 11.4278 - val_mae: 2.7203\n",
            "Epoch 13/60\n",
            "80/80 [==============================] - 2s 22ms/step - loss: 12.6146 - mae: 2.8099 - val_loss: 10.4822 - val_mae: 2.6054\n",
            "Epoch 14/60\n",
            "80/80 [==============================] - 2s 23ms/step - loss: 12.2588 - mae: 2.7704 - val_loss: 9.9756 - val_mae: 2.5478\n",
            "Epoch 15/60\n",
            "80/80 [==============================] - 2s 27ms/step - loss: 12.0905 - mae: 2.7343 - val_loss: 9.5208 - val_mae: 2.4952\n",
            "Epoch 16/60\n",
            "80/80 [==============================] - 2s 22ms/step - loss: 11.7944 - mae: 2.7395 - val_loss: 9.0510 - val_mae: 2.4322\n",
            "Epoch 17/60\n",
            "80/80 [==============================] - 2s 23ms/step - loss: 10.9929 - mae: 2.6458 - val_loss: 8.5816 - val_mae: 2.3656\n",
            "Epoch 18/60\n",
            "80/80 [==============================] - 2s 24ms/step - loss: 11.0383 - mae: 2.6541 - val_loss: 8.0729 - val_mae: 2.2986\n",
            "Epoch 19/60\n",
            "80/80 [==============================] - 2s 23ms/step - loss: 10.1835 - mae: 2.5225 - val_loss: 7.8848 - val_mae: 2.2718\n",
            "Epoch 20/60\n",
            "80/80 [==============================] - 2s 28ms/step - loss: 10.9906 - mae: 2.5975 - val_loss: 7.6301 - val_mae: 2.2366\n",
            "Epoch 21/60\n",
            "80/80 [==============================] - 2s 23ms/step - loss: 10.1845 - mae: 2.5297 - val_loss: 7.3514 - val_mae: 2.1951\n",
            "Epoch 22/60\n",
            "80/80 [==============================] - 2s 22ms/step - loss: 10.8102 - mae: 2.5828 - val_loss: 7.1770 - val_mae: 2.1538\n",
            "Epoch 23/60\n",
            "80/80 [==============================] - 2s 23ms/step - loss: 9.7807 - mae: 2.5184 - val_loss: 6.8868 - val_mae: 2.1065\n",
            "Epoch 24/60\n",
            "80/80 [==============================] - 2s 23ms/step - loss: 9.5335 - mae: 2.4676 - val_loss: 6.8584 - val_mae: 2.0970\n",
            "Epoch 25/60\n",
            "80/80 [==============================] - 2s 23ms/step - loss: 9.9490 - mae: 2.5160 - val_loss: 6.4427 - val_mae: 2.0266\n",
            "Epoch 26/60\n",
            "80/80 [==============================] - 2s 23ms/step - loss: 9.1393 - mae: 2.3950 - val_loss: 6.4124 - val_mae: 2.0229\n",
            "Epoch 27/60\n",
            "80/80 [==============================] - 2s 23ms/step - loss: 9.0696 - mae: 2.3722 - val_loss: 6.0970 - val_mae: 1.9661\n",
            "Epoch 28/60\n",
            "80/80 [==============================] - 2s 23ms/step - loss: 9.0149 - mae: 2.3549 - val_loss: 6.2185 - val_mae: 1.9802\n",
            "Epoch 29/60\n",
            "80/80 [==============================] - 2s 23ms/step - loss: 9.3009 - mae: 2.3863 - val_loss: 6.0124 - val_mae: 1.9565\n",
            "Epoch 30/60\n",
            "80/80 [==============================] - 2s 23ms/step - loss: 8.6742 - mae: 2.3481 - val_loss: 5.9565 - val_mae: 1.9339\n",
            "Epoch 31/60\n",
            "80/80 [==============================] - 2s 23ms/step - loss: 9.1444 - mae: 2.4026 - val_loss: 5.8259 - val_mae: 1.9078\n",
            "Epoch 32/60\n",
            "80/80 [==============================] - 2s 25ms/step - loss: 8.7375 - mae: 2.3215 - val_loss: 5.8451 - val_mae: 1.9142\n",
            "Epoch 33/60\n",
            "80/80 [==============================] - 2s 29ms/step - loss: 8.6282 - mae: 2.3054 - val_loss: 5.8801 - val_mae: 1.9295\n"
          ]
        }
      ]
    },
    {
      "cell_type": "code",
      "source": [
        "# Plot MAE cures for validation and training\n",
        "plot_hist_regression(history_lstm3, baseline)\n",
        "print('Test MAE = %.2f degrees' % model_lstm3.evaluate(test_dataset)[1])"
      ],
      "metadata": {
        "colab": {
          "base_uri": "https://localhost:8080/",
          "height": 314
        },
        "id": "PtFfB3YaU4k3",
        "outputId": "eb5fd379-362d-4cb4-d846-d6d264dccab1"
      },
      "execution_count": null,
      "outputs": [
        {
          "output_type": "display_data",
          "data": {
            "image/png": "[encoded data removed]",
            "text/plain": [
              "<Figure size 432x288 with 1 Axes>"
            ]
          },
          "metadata": {
            "needs_background": "light"
          }
        },
        {
          "output_type": "stream",
          "name": "stdout",
          "text": [
            "31/31 [==============================] - 0s 7ms/step - loss: 6.0601 - mae: 1.8930\n",
            "Test MAE = 1.89 degrees\n"
          ]
        }
      ]
    },
    {
      "cell_type": "markdown",
      "source": [
        "Validation MAE = 1.92 degrees\n",
        "\n",
        "Test MAE = 1.89 degrees\n"
      ],
      "metadata": {
        "id": "eUJqRqp1XJnL"
      }
    },
    {
      "cell_type": "markdown",
      "source": [
        "# Text"
      ],
      "metadata": {
        "id": "zGEuNqw2csXj"
      }
    },
    {
      "cell_type": "markdown",
      "source": [
        "## Data prep\n",
        "\n",
        "We'll try to predict whether the review for a movie is positive or negative looking only at the text of the review.\n",
        "\n",
        "We'll use the IMDB text dataset for this task, which is available on `keras.datasets` and described [here](https://keras.io/api/datasets/imdb/). \n",
        "\n",
        "We'll merge the training and test sets and use 60% for training, 20% for validation, and 20% for testing.\n",
        "\n",
        "\n",
        "As this is a binary classificationp problem, we'll use the binary cross entropy loss function. We will keep track of accuracy when training and evaluating the model.\n"
      ],
      "metadata": {
        "id": "dtv0EjsTbwvm"
      }
    },
    {
      "cell_type": "code",
      "source": [
        "def plot_hist_classif(hist):\n",
        "  n_ = len(hist.history['accuracy'])\n",
        "  plt.plot(range(1, n_+1), 100*np.asarray(hist.history['accuracy']), 'bo', label='Accuracy on training set')\n",
        "  plt.plot(range(1, n_+1), 100*np.asarray(hist.history['val_accuracy']), 'b', label='Accuracy on validation set')\n",
        "  plt.legend()\n",
        "  plt.xlabel(\"Epoch\") \n",
        "  plt.ylabel(\"Accuracy\")\n",
        "  plt.ylim(0, 100)\n",
        "  plt.axhline(y=50)\n",
        "  plt.show()\n"
      ],
      "metadata": {
        "id": "i-mH-8IGwGo1"
      },
      "execution_count": null,
      "outputs": []
    },
    {
      "cell_type": "code",
      "source": [
        "max_features = 15000  # only consider the top 15k words\n",
        "maxlen = 500  # first 500 words of each review\n",
        "batch_size = 32\n",
        "\n",
        "print('Loading data...')\n",
        "# Load dataset\n",
        "(x_train, y_train), (x_test, y_test) = keras.datasets.imdb.load_data(num_words=max_features)\n",
        "print(len(x_train), 'train sequences', x_train.shape)\n",
        "print(len(x_test), 'test sequences', x_test.shape)"
      ],
      "metadata": {
        "colab": {
          "base_uri": "https://localhost:8080/"
        },
        "id": "4TW3Vg49n5V-",
        "outputId": "3807222c-72f1-48b9-ec7e-a45788dc5790"
      },
      "execution_count": null,
      "outputs": [
        {
          "output_type": "stream",
          "name": "stdout",
          "text": [
            "Loading data...\n",
            "Downloading data from https://storage.googleapis.com/tensorflow/tf-keras-datasets/imdb.npz\n",
            "17465344/17464789 [==============================] - 0s 0us/step\n",
            "17473536/17464789 [==============================] - 0s 0us/step\n",
            "25000 train sequences (25000,)\n",
            "25000 test sequences (25000,)\n"
          ]
        }
      ]
    },
    {
      "cell_type": "code",
      "source": [
        "# How balanced is this dataset?\n",
        "print(np.sum(y_train)/len(y_train))\n",
        "print(np.sum(y_test)/len(y_test))"
      ],
      "metadata": {
        "colab": {
          "base_uri": "https://localhost:8080/"
        },
        "id": "8ApTb-jYtSOm",
        "outputId": "f51644cd-02a1-4c35-d903-5fc0d68a3b9b"
      },
      "execution_count": null,
      "outputs": [
        {
          "output_type": "stream",
          "name": "stdout",
          "text": [
            "0.5\n",
            "0.5\n"
          ]
        }
      ]
    },
    {
      "cell_type": "code",
      "source": [
        "# Merge the two datasets and divide: 60% for training, 20% validation, 20% test\n",
        "x_, y_ = np.concatenate((x_train, x_test)), np.concatenate((y_train, y_test))\n",
        "print(x_.shape, y_.shape)\n",
        "x_train, x_test, y_train, y_test = train_test_split(x_, y_, test_size=0.4, random_state=10)  # 60/40 split\n",
        "x_val, x_test, y_val, y_test = train_test_split(x_test, y_test, test_size=0.5, random_state=10)  # 50/50 split\n",
        "print(len(x_train), 'train sequences', x_train.shape)\n",
        "print(len(x_val), 'validation sequences', x_val.shape)\n",
        "print(len(x_test), 'test sequences', x_test.shape)"
      ],
      "metadata": {
        "colab": {
          "base_uri": "https://localhost:8080/"
        },
        "id": "Z53Fbicqr8tm",
        "outputId": "4d7c9122-1eca-46cb-a708-cfe4681d93c8"
      },
      "execution_count": null,
      "outputs": [
        {
          "output_type": "stream",
          "name": "stdout",
          "text": [
            "(50000,) (50000,)\n",
            "30000 train sequences (30000,)\n",
            "10000 validation sequences (10000,)\n",
            "10000 test sequences (10000,)\n"
          ]
        }
      ]
    },
    {
      "cell_type": "code",
      "source": [
        "x_train[0][:10]  # numbers!!"
      ],
      "metadata": {
        "colab": {
          "base_uri": "https://localhost:8080/"
        },
        "id": "5v_Hy-r8o8pR",
        "outputId": "511de152-8560-4580-efce-a7fbdb3175d5"
      },
      "execution_count": null,
      "outputs": [
        {
          "output_type": "execute_result",
          "data": {
            "text/plain": [
              "[1, 11531, 186, 8, 28, 6, 6482, 7, 269, 4042]"
            ]
          },
          "metadata": {},
          "execution_count": 11
        }
      ]
    },
    {
      "cell_type": "code",
      "source": [
        "# We can explore what one of the reviews looks like at this point.\n",
        "\n",
        "# Retrieve the word index file that maps words to indices\n",
        "word_index = keras.datasets.imdb.get_word_index()\n",
        "# Reverse the word index to obtain a dict mapping indices to words (which is what we have)\n",
        "inverted_word_index = dict((i, word) for (word, i) in word_index.items())\n",
        "# Decode the first sequence in the dataset\n",
        "decoded_sequence = \" \".join(inverted_word_index[i] for i in x_train[0])\n",
        "decoded_sequence"
      ],
      "metadata": {
        "colab": {
          "base_uri": "https://localhost:8080/",
          "height": 105
        },
        "id": "rgEgNSLBpFwh",
        "outputId": "a820c43a-3177-45fc-bef4-10a804a18c86"
      },
      "execution_count": null,
      "outputs": [
        {
          "output_type": "stream",
          "name": "stdout",
          "text": [
            "Downloading data from https://storage.googleapis.com/tensorflow/tf-keras-datasets/imdb_word_index.json\n",
            "1646592/1641221 [==============================] - 0s 0us/step\n",
            "1654784/1641221 [==============================] - 0s 0us/step\n"
          ]
        },
        {
          "output_type": "execute_result",
          "data": {
            "application/vnd.google.colaboratory.intrinsic+json": {
              "type": "string"
            },
            "text/plain": [
              "\"the lilly horror in one is fatale br looks meaningless in bronson be showing as you debut film ample to and ingredients zombi ample they for series and thought she's all manipulate and believing in j show look early last quote desire tight interesting that's kind out is far shelter but of frame br and\""
            ]
          },
          "metadata": {},
          "execution_count": 12
        }
      ]
    },
    {
      "cell_type": "code",
      "source": [
        "# Let's ensure all sequences have the same length through padding\n",
        "# - shorter reviews are padded with 0's\n",
        "# - longer reviews are cut\n",
        "print('Pad sequences')\n",
        "x_train = keras.preprocessing.sequence.pad_sequences(x_train, maxlen=maxlen)\n",
        "x_val = keras.preprocessing.sequence.pad_sequences(x_val, maxlen=maxlen)\n",
        "x_test = keras.preprocessing.sequence.pad_sequences(x_test, maxlen=maxlen)\n",
        "print('x_train shape:', x_train.shape)\n",
        "print('x_val shape:', x_val.shape)\n",
        "print('x_test shape:', x_test.shape)"
      ],
      "metadata": {
        "colab": {
          "base_uri": "https://localhost:8080/"
        },
        "id": "ibmO0V-gcthG",
        "outputId": "9422d91d-b296-497b-b038-964ab28ab33c"
      },
      "execution_count": null,
      "outputs": [
        {
          "output_type": "stream",
          "name": "stdout",
          "text": [
            "Pad sequences\n",
            "x_train shape: (30000, 500)\n",
            "x_val shape: (10000, 500)\n",
            "x_test shape: (10000, 500)\n"
          ]
        }
      ]
    },
    {
      "cell_type": "code",
      "source": [
        "# Basic feedforward model\n",
        "model = models.Sequential()\n",
        "model.add(layers.Embedding(max_features, 128, input_length=maxlen))\n",
        "model.add(layers.Dense(64, activation='relu'))\n",
        "model.add(layers.Dropout(0.5))\n",
        "model.add(layers.Dense(64, activation='relu'))\n",
        "model.add(layers.Dropout(0.5))\n",
        "model.add(layers.Flatten())\n",
        "model.add(layers.Dense(1, activation=\"sigmoid\"))\n",
        "model.summary()"
      ],
      "metadata": {
        "colab": {
          "base_uri": "https://localhost:8080/"
        },
        "id": "sBpQpwBAk44H",
        "outputId": "eb86c1c0-0cd1-479e-a4ef-3f58cbf6abb0"
      },
      "execution_count": null,
      "outputs": [
        {
          "output_type": "stream",
          "name": "stdout",
          "text": [
            "Model: \"sequential_18\"\n",
            "_________________________________________________________________\n",
            " Layer (type)                Output Shape              Param #   \n",
            "=================================================================\n",
            " embedding_18 (Embedding)    (None, 500, 128)          1920000   \n",
            "                                                                 \n",
            " dense_46 (Dense)            (None, 500, 64)           8256      \n",
            "                                                                 \n",
            " dropout_30 (Dropout)        (None, 500, 64)           0         \n",
            "                                                                 \n",
            " dense_47 (Dense)            (None, 500, 64)           4160      \n",
            "                                                                 \n",
            " dropout_31 (Dropout)        (None, 500, 64)           0         \n",
            "                                                                 \n",
            " flatten_8 (Flatten)         (None, 32000)             0         \n",
            "                                                                 \n",
            " dense_48 (Dense)            (None, 1)                 32001     \n",
            "                                                                 \n",
            "=================================================================\n",
            "Total params: 1,964,417\n",
            "Trainable params: 1,964,417\n",
            "Non-trainable params: 0\n",
            "_________________________________________________________________\n"
          ]
        }
      ]
    },
    {
      "cell_type": "code",
      "source": [
        "model.compile(optimizer=\"rmsprop\", loss=\"binary_crossentropy\", metrics=[\"accuracy\"])\n",
        "history = model.fit(x_train, y_train, batch_size=batch_size, epochs=20, validation_data=(x_val, y_val))"
      ],
      "metadata": {
        "colab": {
          "base_uri": "https://localhost:8080/"
        },
        "id": "-8c7tCS5vrC3",
        "outputId": "aab08477-7bd5-4394-b052-3faa0d266096"
      },
      "execution_count": null,
      "outputs": [
        {
          "output_type": "stream",
          "name": "stdout",
          "text": [
            "Epoch 1/20\n",
            "938/938 [==============================] - 13s 12ms/step - loss: 0.4446 - accuracy: 0.7597 - val_loss: 0.2790 - val_accuracy: 0.8852\n",
            "Epoch 2/20\n",
            "938/938 [==============================] - 11s 12ms/step - loss: 0.2440 - accuracy: 0.9040 - val_loss: 0.3078 - val_accuracy: 0.8778\n",
            "Epoch 3/20\n",
            "938/938 [==============================] - 11s 12ms/step - loss: 0.2075 - accuracy: 0.9191 - val_loss: 0.2768 - val_accuracy: 0.8921\n",
            "Epoch 4/20\n",
            "938/938 [==============================] - 11s 11ms/step - loss: 0.1898 - accuracy: 0.9265 - val_loss: 0.2607 - val_accuracy: 0.8994\n",
            "Epoch 5/20\n",
            "938/938 [==============================] - 11s 11ms/step - loss: 0.1783 - accuracy: 0.9322 - val_loss: 0.2725 - val_accuracy: 0.8962\n",
            "Epoch 6/20\n",
            "938/938 [==============================] - 12s 13ms/step - loss: 0.1654 - accuracy: 0.9369 - val_loss: 0.3647 - val_accuracy: 0.8674\n",
            "Epoch 7/20\n",
            "938/938 [==============================] - 15s 16ms/step - loss: 0.1563 - accuracy: 0.9414 - val_loss: 0.3110 - val_accuracy: 0.8833\n",
            "Epoch 8/20\n",
            "938/938 [==============================] - 14s 14ms/step - loss: 0.1512 - accuracy: 0.9440 - val_loss: 0.2823 - val_accuracy: 0.8934\n",
            "Epoch 9/20\n",
            "938/938 [==============================] - 16s 17ms/step - loss: 0.1443 - accuracy: 0.9459 - val_loss: 0.4632 - val_accuracy: 0.8488\n",
            "Epoch 10/20\n",
            "938/938 [==============================] - 14s 15ms/step - loss: 0.1369 - accuracy: 0.9493 - val_loss: 0.2873 - val_accuracy: 0.8932\n",
            "Epoch 11/20\n",
            "938/938 [==============================] - 11s 12ms/step - loss: 0.1302 - accuracy: 0.9514 - val_loss: 0.4073 - val_accuracy: 0.8622\n",
            "Epoch 12/20\n",
            "938/938 [==============================] - 11s 12ms/step - loss: 0.1257 - accuracy: 0.9542 - val_loss: 0.3887 - val_accuracy: 0.8666\n",
            "Epoch 13/20\n",
            "938/938 [==============================] - 11s 12ms/step - loss: 0.1176 - accuracy: 0.9565 - val_loss: 0.4058 - val_accuracy: 0.8639\n",
            "Epoch 14/20\n",
            "938/938 [==============================] - 11s 12ms/step - loss: 0.1171 - accuracy: 0.9569 - val_loss: 0.3451 - val_accuracy: 0.8845\n",
            "Epoch 15/20\n",
            "938/938 [==============================] - 11s 12ms/step - loss: 0.1081 - accuracy: 0.9608 - val_loss: 0.5321 - val_accuracy: 0.8433\n",
            "Epoch 16/20\n",
            "938/938 [==============================] - 11s 12ms/step - loss: 0.1010 - accuracy: 0.9624 - val_loss: 0.4346 - val_accuracy: 0.8681\n",
            "Epoch 17/20\n",
            "938/938 [==============================] - 11s 11ms/step - loss: 0.0986 - accuracy: 0.9645 - val_loss: 0.5337 - val_accuracy: 0.8479\n",
            "Epoch 18/20\n",
            "938/938 [==============================] - 11s 12ms/step - loss: 0.0961 - accuracy: 0.9661 - val_loss: 0.4363 - val_accuracy: 0.8698\n",
            "Epoch 19/20\n",
            "938/938 [==============================] - 11s 11ms/step - loss: 0.0884 - accuracy: 0.9694 - val_loss: 0.4146 - val_accuracy: 0.8794\n",
            "Epoch 20/20\n",
            "938/938 [==============================] - 12s 12ms/step - loss: 0.0878 - accuracy: 0.9684 - val_loss: 0.6386 - val_accuracy: 0.8320\n"
          ]
        }
      ]
    },
    {
      "cell_type": "code",
      "source": [
        "plot_hist_classif(history)\n",
        "print('Test Accuracy = %.2f' % model.evaluate(x_test, y_test)[1])  # overfitting!"
      ],
      "metadata": {
        "colab": {
          "base_uri": "https://localhost:8080/",
          "height": 318
        },
        "id": "dKBVw5mHv_oX",
        "outputId": "01b16817-5689-4137-d46b-8275b712e986"
      },
      "execution_count": null,
      "outputs": [
        {
          "output_type": "display_data",
          "data": {
            "image/png": "[encoded data removed]",
            "text/plain": [
              "<Figure size 432x288 with 1 Axes>"
            ]
          },
          "metadata": {
            "needs_background": "light"
          }
        },
        {
          "output_type": "stream",
          "name": "stdout",
          "text": [
            "313/313 [==============================] - 1s 5ms/step - loss: 0.6392 - accuracy: 0.8309\n",
            "Test Accuracy = 0.83\n"
          ]
        }
      ]
    },
    {
      "cell_type": "code",
      "source": [
        "# Let's try an RNN\n",
        "model = models.Sequential()\n",
        "model.add(layers.Embedding(max_features, 64))\n",
        "model.add(layers.LSTM(128, return_sequences=False))\n",
        "model.add(layers.Dropout(0.5))\n",
        "model.add(layers.Dense(1, activation=\"sigmoid\"))\n",
        "model.compile(optimizer=\"rmsprop\", loss=\"binary_crossentropy\", metrics=[\"accuracy\"])\n",
        "model.summary()"
      ],
      "metadata": {
        "colab": {
          "base_uri": "https://localhost:8080/"
        },
        "id": "Ieh7Wl9Pwh8V",
        "outputId": "7e4d2bbc-b62c-407d-ee81-e5d62d9caa3a"
      },
      "execution_count": null,
      "outputs": [
        {
          "output_type": "stream",
          "name": "stdout",
          "text": [
            "Model: \"sequential_2\"\n",
            "_________________________________________________________________\n",
            " Layer (type)                Output Shape              Param #   \n",
            "=================================================================\n",
            " embedding_2 (Embedding)     (None, None, 64)          960000    \n",
            "                                                                 \n",
            " lstm_4 (LSTM)               (None, 128)               98816     \n",
            "                                                                 \n",
            " dropout_2 (Dropout)         (None, 128)               0         \n",
            "                                                                 \n",
            " dense_2 (Dense)             (None, 1)                 129       \n",
            "                                                                 \n",
            "=================================================================\n",
            "Total params: 1,058,945\n",
            "Trainable params: 1,058,945\n",
            "Non-trainable params: 0\n",
            "_________________________________________________________________\n"
          ]
        }
      ]
    },
    {
      "cell_type": "code",
      "source": [
        "# This model will take a long time to train, so we add an early stopping criterion\n",
        "# N.B: It's actually much faster to train WITHOUT A GPU!!\n",
        "callbacks = [EarlyStopping(monitor='val_accuracy', patience=2)]\n",
        "history = model.fit(x_train, y_train, batch_size=batch_size, epochs=20, validation_data=(x_val, y_val), callbacks=callbacks)\n",
        "plot_hist_classif(history)\n",
        "print('Test Accuracy = %.2f' % model.evaluate(x_test, y_test)[1])\n",
        "# Note that we're still overfitting, but this is just an example of use"
      ],
      "metadata": {
        "colab": {
          "base_uri": "https://localhost:8080/",
          "height": 561
        },
        "id": "Sd54xZMmxKBQ",
        "outputId": "96c092e9-eea3-4080-b720-31885daecd83"
      },
      "execution_count": null,
      "outputs": [
        {
          "output_type": "stream",
          "name": "stdout",
          "text": [
            "Epoch 1/20\n",
            "938/938 [==============================] - 476s 505ms/step - loss: 0.4209 - accuracy: 0.8129 - val_loss: 0.3985 - val_accuracy: 0.8645\n",
            "Epoch 2/20\n",
            "938/938 [==============================] - 490s 522ms/step - loss: 0.2808 - accuracy: 0.8916 - val_loss: 0.2791 - val_accuracy: 0.8866\n",
            "Epoch 3/20\n",
            "938/938 [==============================] - 475s 507ms/step - loss: 0.2338 - accuracy: 0.9130 - val_loss: 0.3231 - val_accuracy: 0.8945\n",
            "Epoch 4/20\n",
            "938/938 [==============================] - 480s 511ms/step - loss: 0.2113 - accuracy: 0.9250 - val_loss: 0.2889 - val_accuracy: 0.8817\n",
            "Epoch 5/20\n",
            "938/938 [==============================] - 468s 499ms/step - loss: 0.1846 - accuracy: 0.9347 - val_loss: 0.2552 - val_accuracy: 0.9050\n",
            "Epoch 6/20\n",
            "938/938 [==============================] - 470s 501ms/step - loss: 0.1598 - accuracy: 0.9435 - val_loss: 0.4075 - val_accuracy: 0.8703\n",
            "Epoch 7/20\n",
            "938/938 [==============================] - 472s 503ms/step - loss: 0.1433 - accuracy: 0.9517 - val_loss: 0.4536 - val_accuracy: 0.8694\n"
          ]
        },
        {
          "output_type": "display_data",
          "data": {
            "image/png": "[encoded data removed]",
            "text/plain": [
              "<Figure size 432x288 with 1 Axes>"
            ]
          },
          "metadata": {
            "needs_background": "light"
          }
        },
        {
          "output_type": "stream",
          "name": "stdout",
          "text": [
            "313/313 [==============================] - 38s 120ms/step - loss: 0.4368 - accuracy: 0.8754\n",
            "Test Accuracy = 0.88\n"
          ]
        }
      ]
    },
    {
      "cell_type": "markdown",
      "source": [
        "## Your turn!\n",
        "\n",
        "Implement a bidirectional RNN that can outperform the LSTM model we had above.\n",
        "\n",
        "A starting skeleton could be:\n",
        " \n",
        "*   Embedding layer with an output dimension of 64\n",
        "*   Bidirectional layer with a 32-neuron LSTM layer\n",
        "*   Dense layer with 1 neuron and a sigmoid activation\n",
        "\n",
        "Some suggestions:\n",
        "\n",
        "- Change the sizes of the layers (i.e., the numbers of neurons)\n",
        "- Add dropout\n",
        "- Add other recurrent and/or bidirectional layers\n",
        "\n",
        "Once you have a model that scores over 90% on the validation set, check its performance on the test set and upload it on the code checker in Moodle.\n",
        "\n",
        "Note that the model I'm suggesting above will be able to reach the desired performance, but it will show signs of overfitting. Can you do it by adding regularization (dropout, smaller network) so you don't overfit?\n"
      ],
      "metadata": {
        "id": "kzZhXm5gkz_g"
      }
    },
    {
      "cell_type": "code",
      "source": [
        "n_ = 10  # number of epochs. You can edit this\n",
        "\n",
        "model = models.Sequential()\n",
        "# YOUR CODE HERE!\n",
        "\n",
        "\n",
        "# I DON'T RECOMMEND THAT YOU CHANGE CODE AFTER THIS POINT\n",
        "model.compile(optimizer=\"rmsprop\", loss=\"binary_crossentropy\", metrics=[\"accuracy\"])\n",
        "\n",
        "print(model.summary())\n",
        "\n",
        "# This model will take a long time to train, so we add an early stopping criterion\n",
        "# I've also added a ModelCheckpoint that will save the best model according to val_accuracy regardless of whether we continue training\n",
        "callbacks = [EarlyStopping(monitor='val_accuracy', patience=1),\n",
        "             ModelCheckpoint(\"model.keras\", save_best_only=True, monitor=\"val_accuracy\", mode='max')]\n",
        "\n",
        "history = model.fit(x_train, y_train, batch_size=batch_size, epochs=n_, \n",
        "                    validation_data=(x_val, y_val), \n",
        "                    callbacks=callbacks)\n",
        "plot_hist_classif(history)\n",
        "model = keras.models.load_model(\"model.keras\")\n",
        "print('Test Accuracy = %.2f' % model.evaluate(x_test, y_test)[1])"
      ],
      "metadata": {
        "id": "jCHOC7dyadaj"
      },
      "execution_count": null,
      "outputs": []
    },
    {
      "cell_type": "code",
      "source": [
        "if model.count_params() > 1000000:\n",
        "    print(\"Due to memory constraints on Moodle, the lab quiz has a 10MB limit on your model size, so you need to use a smaller model to validate through the auto-marker.\")\n",
        "\n",
        "if history.history[\"val_accuracy\"][-1] > 0.9:\n",
        "    print(\"Your model is accurate enough!\")\n",
        "\n",
        "else:\n",
        "    print(\"Accuracy is below the threshold!\")\n",
        "    raise Exception(\"Your model isn't accurate enough to pass the progress checker!\")\n",
        "# Save the model into a local folder\n",
        "keras.models.save_model(model, \"Model.h5\",save_format='h5')\n",
        "print('Model saved! You can now upload it to the lab quiz.')"
      ],
      "metadata": {
        "id": "ZFBmg66_CR7y"
      },
      "execution_count": null,
      "outputs": []
    },
    {
      "cell_type": "code",
      "source": [
        ""
      ],
      "metadata": {
        "id": "hv7PyBQQsXav"
      },
      "execution_count": null,
      "outputs": []
    }
  ],
  "metadata": {
    "kernelspec": {
      "display_name": "Python 3",
      "language": "python",
      "name": "python3"
    },
    "language_info": {
      "codemirror_mode": {
        "name": "ipython",
        "version": 3
      },
      "file_extension": ".py",
      "mimetype": "text/x-python",
      "name": "python",
      "nbconvert_exporter": "python",
      "pygments_lexer": "ipython3",
      "version": "3.7.10"
    },
    "colab": {
      "name": "rnn.ipynb",
      "provenance": [],
      "collapsed_sections": [
        "WlhjIvZR_a0Q",
        "rloJamyvWPWj",
        "7c-duA1Z_a0R",
        "3ozUAZX__a0R"
      ],
      "include_colab_link": true
    }
  },
  "nbformat": 4,
  "nbformat_minor": 0
}