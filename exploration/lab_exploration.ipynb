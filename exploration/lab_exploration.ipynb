{
  "cells": [
    {
      "cell_type": "markdown",
      "metadata": {
        "id": "view-in-github",
        "colab_type": "text"
      },
      "source": [
        "<a href=\"https://colab.research.google.com/github/albanda/CE888/blob/master/exploration/lab_exploration.ipynb\" target=\"_parent\"><img src=\"https://colab.research.google.com/assets/colab-badge.svg\" alt=\"Open In Colab\"/></a>"
      ]
    },
    {
      "cell_type": "code",
      "execution_count": null,
      "metadata": {
        "id": "X8ESUl-E7Kzt"
      },
      "outputs": [],
      "source": [
        "%matplotlib inline\n",
        "import matplotlib\n",
        "import numpy as np\n",
        "import matplotlib.pyplot as plt\n",
        "import pandas as pd\n",
        "import seaborn as sns\n",
        "\n",
        "from sklearn.datasets import load_wine\n",
        "\n",
        "from sklearn.preprocessing import LabelEncoder, StandardScaler, OneHotEncoder\n",
        "from sklearn.decomposition import PCA\n",
        "from sklearn.cluster import KMeans\n",
        "from sklearn.metrics import silhouette_score"
      ]
    },
    {
      "cell_type": "markdown",
      "metadata": {
        "id": "VEiShHZj7K0Y"
      },
      "source": [
        "* We have loaded the necessary libraries above\n",
        "* Now let's load the data"
      ]
    },
    {
      "cell_type": "code",
      "execution_count": null,
      "metadata": {
        "id": "U2xMQ41u7K0m"
      },
      "outputs": [],
      "source": [
        "data = load_wine(as_frame=True)\n",
        "df = data.data.copy()  # features\n",
        "# Look at the documentation (https://scikit-learn.org/stable/modules/generated/sklearn.datasets.load_wine.html)\n",
        "# and save the label in a column called 'y' in df.\n",
        "df['y'] = ... ## YOUR CODE HERE # label\n",
        "df.head()"
      ]
    },
    {
      "cell_type": "code",
      "execution_count": null,
      "metadata": {
        "id": "NKtLICR3iXZO"
      },
      "outputs": [],
      "source": [
        "#How many samples and features are there?\n",
        "\n",
        "# YOUR CODE HERE\n",
        "print('number of samples:', ..., 'number of features:', ...)"
      ]
    },
    {
      "cell_type": "code",
      "execution_count": null,
      "metadata": {
        "id": "nSweHdOBiXZP"
      },
      "outputs": [],
      "source": [
        "# Quiz Q1\n",
        "# How many instances are there for each class? \n",
        "\n",
        "# YOUR CODE HERE\n"
      ]
    },
    {
      "cell_type": "code",
      "execution_count": null,
      "metadata": {
        "id": "CNkl_UR3iXZQ"
      },
      "outputs": [],
      "source": [
        "# Calculate the means, medians, and standard deviations of each feature\n",
        "# YOUR CODE HERE"
      ]
    },
    {
      "cell_type": "code",
      "execution_count": null,
      "metadata": {
        "id": "knoslC7IiXZR"
      },
      "outputs": [],
      "source": [
        "# Plot a boxplot of each feature (NOT THE LABEL!!) (all in one plot -- you can do this with a single line of code).\n",
        "# Quiz Q2: Is there any feature that is in a clearly different scale than the others?\n",
        "\n",
        "# YOUR CODE HERE"
      ]
    },
    {
      "cell_type": "code",
      "execution_count": null,
      "metadata": {
        "scrolled": false,
        "id": "TPtp2IZKiXZS"
      },
      "outputs": [],
      "source": [
        "# Let's look at the distributions of values of our features. Draw a histogram for each of the features\n",
        "\n",
        "# YOUR CODE HERE"
      ]
    },
    {
      "cell_type": "markdown",
      "metadata": {
        "id": "vpirxqr9iXZT"
      },
      "source": [
        "Let's do some multivariate analysis"
      ]
    },
    {
      "cell_type": "code",
      "execution_count": null,
      "metadata": {
        "id": "fwLc3RDdiXZU"
      },
      "outputs": [],
      "source": [
        "# Calculate the correlations between each pair of variables\n",
        "\n",
        "# YOUR CODE HERE\n",
        "\n",
        "# Plot a heatmap of the correlations between pairs of FEATURES (i.e., don't include the target!)\n",
        "\n",
        "# YOUR CODE HERE"
      ]
    },
    {
      "cell_type": "code",
      "execution_count": null,
      "metadata": {
        "id": "AQ326VVsiXZW"
      },
      "outputs": [],
      "source": [
        "# What is the highest correlation between features?\n",
        "\n"
      ]
    },
    {
      "cell_type": "markdown",
      "source": [
        "You should have noticed that some of the features are highly correlated. \n",
        "\n",
        "For this reason, we can run into trouble when trying to train a classifier due to multicolinearity.\n",
        "\n",
        "Let's do PCA on this dataset to remove these correlations"
      ],
      "metadata": {
        "id": "SWjkbzTWi5Ns"
      }
    },
    {
      "cell_type": "code",
      "execution_count": null,
      "metadata": {
        "id": "akqk41SwiXZX"
      },
      "outputs": [],
      "source": [
        "# Let's do PCA:\n",
        "# HINT: I suggest you attempt Q5 of the quiz and then use the function you developed\n",
        "#       in this and some of the following cells.\n",
        "\n",
        "# 1. Standardise your data using a StandardScaler. Make sure you're not scaling the 'y'!\n",
        "\n",
        "# YOUR CODE HERE\n",
        "\n",
        "# 2. Do PCA with 2 components. How much variance is retained from the original dataset?\n",
        "\n",
        "# YOUR CODE HERE\n"
      ]
    },
    {
      "cell_type": "code",
      "execution_count": null,
      "metadata": {
        "id": "k7kjv4WHiXZY"
      },
      "outputs": [],
      "source": [
        "# Plot your two components, using the label from the data to colour the points\n",
        "\n",
        "# YOUR CODE HERE\n"
      ]
    },
    {
      "cell_type": "code",
      "execution_count": null,
      "metadata": {
        "id": "bNpetshyiXZZ"
      },
      "outputs": [],
      "source": [
        "# How many components do you need to keep at least 85% of the variance in the dataset? (Q6)\n",
        "\n",
        "# YOUR CODE HERE\n"
      ]
    },
    {
      "cell_type": "code",
      "execution_count": null,
      "metadata": {
        "id": "k1eDhjN1iXZY"
      },
      "outputs": [],
      "source": [
        "# How much variance is retained if we do PCA with 3 components? (Q7)\n",
        "\n",
        "# YOUR CODE HERE\n"
      ]
    },
    {
      "cell_type": "markdown",
      "metadata": {
        "id": "AvdemHgZiXZZ"
      },
      "source": [
        "## Clustering"
      ]
    },
    {
      "cell_type": "markdown",
      "metadata": {
        "id": "7QTjJP_h7K3N"
      },
      "source": [
        "Let's see how many clusters does K-Means find.\n",
        "\n"
      ]
    },
    {
      "cell_type": "code",
      "execution_count": null,
      "metadata": {
        "id": "JNDEKVYHybim"
      },
      "outputs": [],
      "source": [
        "# Use the elbow method to select the number of clusters in your data using 3 PCs.\n",
        "\n",
        "# YOUR CODE HERE\n"
      ]
    },
    {
      "cell_type": "code",
      "execution_count": null,
      "metadata": {
        "id": "anQy-uCZiXZa"
      },
      "outputs": [],
      "source": [
        "# Now use the silhouette score to choose between the two candidate k values from the previous cell\n",
        "\n",
        "# YOUR CODE HERE\n"
      ]
    },
    {
      "cell_type": "code",
      "execution_count": null,
      "metadata": {
        "id": "YGItp0Vh7K2_"
      },
      "outputs": [],
      "source": [
        "# Visualise the first two pcs (using a scatterplot) using the labels from KMeans with your chosen value of k\n",
        "\n",
        "# YOUR CODE HERE\n"
      ]
    },
    {
      "cell_type": "markdown",
      "metadata": {
        "id": "MVVu-IUPiXZb"
      },
      "source": [
        "Now we can try to understand our clusters."
      ]
    },
    {
      "cell_type": "code",
      "execution_count": null,
      "metadata": {
        "id": "KvaUMdbB9HWK"
      },
      "outputs": [],
      "source": [
        "# In the original (before PCA and before standardisation) dataframe, add a column called 'cluster' that contains\n",
        "# the cluster assignment from above\n",
        "\n",
        "# YOUR CODE HERE\n"
      ]
    },
    {
      "cell_type": "code",
      "execution_count": null,
      "metadata": {
        "id": "Q4J3swJhiXZc"
      },
      "outputs": [],
      "source": [
        "# Do a boxplot of each feature, separating between clusters\n",
        "\n",
        "# YOUR CODE HERE\n"
      ]
    },
    {
      "cell_type": "markdown",
      "metadata": {
        "id": "XQlOvB_2iXZc"
      },
      "source": [
        "Write your observations here.\n",
        "For example: is there a clear difference between the clusters in terms of alcohol content? What about flavanoids?"
      ]
    },
    {
      "cell_type": "code",
      "execution_count": null,
      "metadata": {
        "id": "Eo6Y4Z5jiXZc"
      },
      "outputs": [],
      "source": [
        "# Feel free to keep playing with the data here!"
      ]
    }
  ],
  "metadata": {
    "colab": {
      "name": "exploration.ipynb",
      "provenance": [],
      "collapsed_sections": [],
      "include_colab_link": true
    },
    "kernelspec": {
      "display_name": "Python 3",
      "language": "python",
      "name": "python3"
    },
    "language_info": {
      "codemirror_mode": {
        "name": "ipython",
        "version": 3
      },
      "file_extension": ".py",
      "mimetype": "text/x-python",
      "name": "python",
      "nbconvert_exporter": "python",
      "pygments_lexer": "ipython3",
      "version": "3.7.10"
    }
  },
  "nbformat": 4,
  "nbformat_minor": 0
}